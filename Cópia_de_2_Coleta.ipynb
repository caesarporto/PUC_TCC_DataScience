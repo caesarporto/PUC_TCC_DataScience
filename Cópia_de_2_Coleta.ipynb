{
  "nbformat": 4,
  "nbformat_minor": 0,
  "metadata": {
    "colab": {
      "name": "Cópia de 2-Coleta.ipynb",
      "provenance": [],
      "collapsed_sections": [],
      "authorship_tag": "ABX9TyP5Ez31uOFQAtvU+RnoFvs+",
      "include_colab_link": true
    },
    "kernelspec": {
      "name": "python3",
      "display_name": "Python 3"
    },
    "language_info": {
      "name": "python"
    }
  },
  "cells": [
    {
      "cell_type": "markdown",
      "metadata": {
        "id": "view-in-github",
        "colab_type": "text"
      },
      "source": [
        "<a href=\"https://colab.research.google.com/github/caesarporto/PUC_TCC_DataScience/blob/main/C%C3%B3pia_de_2_Coleta.ipynb\" target=\"_parent\"><img src=\"https://colab.research.google.com/assets/colab-badge.svg\" alt=\"Open In Colab\"/></a>"
      ]
    },
    {
      "cell_type": "code",
      "metadata": {
        "id": "a5JCHlrbppKy"
      },
      "source": [
        "import pandas as pd\n",
        "df_tinto = pd.read_csv('https://raw.githubusercontent.com/caesarporto/PUC_TCC_DataScience/main/datasource/winequality_red.csv', sep=',')"
      ],
      "execution_count": 7,
      "outputs": []
    },
    {
      "cell_type": "code",
      "metadata": {
        "id": "mYh8uopqcXf-"
      },
      "source": [
        "\n",
        "df_branco = pd.read_csv('https://raw.githubusercontent.com/caesarporto/PUC_TCC_DataScience/main/datasource/winequality_white.csv', sep=',')"
      ],
      "execution_count": 8,
      "outputs": []
    },
    {
      "cell_type": "code",
      "metadata": {
        "colab": {
          "base_uri": "https://localhost:8080/"
        },
        "id": "aRphz8LV99Y6",
        "outputId": "7618e90b-e953-4b22-da74-181c50158214"
      },
      "source": [
        "df_tinto.duplicated(keep=False)"
      ],
      "execution_count": 15,
      "outputs": [
        {
          "output_type": "execute_result",
          "data": {
            "text/plain": [
              "0       False\n",
              "1       False\n",
              "2       False\n",
              "3       False\n",
              "4        True\n",
              "        ...  \n",
              "1594    False\n",
              "1595    False\n",
              "1596     True\n",
              "1597    False\n",
              "1598    False\n",
              "Length: 1599, dtype: bool"
            ]
          },
          "metadata": {
            "tags": []
          },
          "execution_count": 15
        }
      ]
    },
    {
      "cell_type": "code",
      "metadata": {
        "colab": {
          "base_uri": "https://localhost:8080/"
        },
        "id": "9lG_bjtTifIq",
        "outputId": "aca339a9-4468-4a2a-ad3d-855e0167c185"
      },
      "source": [
        "df_tinto.count()"
      ],
      "execution_count": null,
      "outputs": [
        {
          "output_type": "execute_result",
          "data": {
            "text/plain": [
              "fixed acidity           1599\n",
              "volatile acidity        1599\n",
              "citric acid             1599\n",
              "residual sugar          1599\n",
              "chlorides               1599\n",
              "free sulfur dioxide     1599\n",
              "total sulfur dioxide    1599\n",
              "density                 1599\n",
              "pH                      1599\n",
              "sulphates               1599\n",
              "alcohol                 1599\n",
              "quality                 1599\n",
              "dtype: int64"
            ]
          },
          "metadata": {
            "tags": []
          },
          "execution_count": 6
        }
      ]
    },
    {
      "cell_type": "code",
      "metadata": {
        "colab": {
          "base_uri": "https://localhost:8080/"
        },
        "id": "IgR4S1QxcmIn",
        "outputId": "15a3eb3b-575c-4b13-af41-a4bf594d23c4"
      },
      "source": [
        "df_branco.count()"
      ],
      "execution_count": null,
      "outputs": [
        {
          "output_type": "execute_result",
          "data": {
            "text/plain": [
              "fixed acidity           4898\n",
              "volatile acidity        4898\n",
              "citric acid             4898\n",
              "residual sugar          4898\n",
              "chlorides               4898\n",
              "free sulfur dioxide     4898\n",
              "total sulfur dioxide    4898\n",
              "density                 4898\n",
              "pH                      4898\n",
              "sulphates               4898\n",
              "alcohol                 4898\n",
              "quality                 4898\n",
              "dtype: int64"
            ]
          },
          "metadata": {
            "tags": []
          },
          "execution_count": 7
        }
      ]
    },
    {
      "cell_type": "code",
      "metadata": {
        "id": "omfE-AdGltoI",
        "colab": {
          "base_uri": "https://localhost:8080/",
          "height": 204
        },
        "outputId": "6bba07b9-c13e-42dd-bf26-cf5b70867636"
      },
      "source": [
        "df_tinto.head()"
      ],
      "execution_count": null,
      "outputs": [
        {
          "output_type": "execute_result",
          "data": {
            "text/html": [
              "<div>\n",
              "<style scoped>\n",
              "    .dataframe tbody tr th:only-of-type {\n",
              "        vertical-align: middle;\n",
              "    }\n",
              "\n",
              "    .dataframe tbody tr th {\n",
              "        vertical-align: top;\n",
              "    }\n",
              "\n",
              "    .dataframe thead th {\n",
              "        text-align: right;\n",
              "    }\n",
              "</style>\n",
              "<table border=\"1\" class=\"dataframe\">\n",
              "  <thead>\n",
              "    <tr style=\"text-align: right;\">\n",
              "      <th></th>\n",
              "      <th>fixed acidity</th>\n",
              "      <th>volatile acidity</th>\n",
              "      <th>citric acid</th>\n",
              "      <th>residual sugar</th>\n",
              "      <th>chlorides</th>\n",
              "      <th>free sulfur dioxide</th>\n",
              "      <th>total sulfur dioxide</th>\n",
              "      <th>density</th>\n",
              "      <th>pH</th>\n",
              "      <th>sulphates</th>\n",
              "      <th>alcohol</th>\n",
              "      <th>quality</th>\n",
              "    </tr>\n",
              "  </thead>\n",
              "  <tbody>\n",
              "    <tr>\n",
              "      <th>0</th>\n",
              "      <td>7.4</td>\n",
              "      <td>0.70</td>\n",
              "      <td>0.00</td>\n",
              "      <td>1.9</td>\n",
              "      <td>0.076</td>\n",
              "      <td>11.0</td>\n",
              "      <td>34.0</td>\n",
              "      <td>0.9978</td>\n",
              "      <td>3.51</td>\n",
              "      <td>0.56</td>\n",
              "      <td>9.4</td>\n",
              "      <td>5</td>\n",
              "    </tr>\n",
              "    <tr>\n",
              "      <th>1</th>\n",
              "      <td>7.8</td>\n",
              "      <td>0.88</td>\n",
              "      <td>0.00</td>\n",
              "      <td>2.6</td>\n",
              "      <td>0.098</td>\n",
              "      <td>25.0</td>\n",
              "      <td>67.0</td>\n",
              "      <td>0.9968</td>\n",
              "      <td>3.20</td>\n",
              "      <td>0.68</td>\n",
              "      <td>9.8</td>\n",
              "      <td>5</td>\n",
              "    </tr>\n",
              "    <tr>\n",
              "      <th>2</th>\n",
              "      <td>7.8</td>\n",
              "      <td>0.76</td>\n",
              "      <td>0.04</td>\n",
              "      <td>2.3</td>\n",
              "      <td>0.092</td>\n",
              "      <td>15.0</td>\n",
              "      <td>54.0</td>\n",
              "      <td>0.9970</td>\n",
              "      <td>3.26</td>\n",
              "      <td>0.65</td>\n",
              "      <td>9.8</td>\n",
              "      <td>5</td>\n",
              "    </tr>\n",
              "    <tr>\n",
              "      <th>3</th>\n",
              "      <td>11.2</td>\n",
              "      <td>0.28</td>\n",
              "      <td>0.56</td>\n",
              "      <td>1.9</td>\n",
              "      <td>0.075</td>\n",
              "      <td>17.0</td>\n",
              "      <td>60.0</td>\n",
              "      <td>0.9980</td>\n",
              "      <td>3.16</td>\n",
              "      <td>0.58</td>\n",
              "      <td>9.8</td>\n",
              "      <td>6</td>\n",
              "    </tr>\n",
              "    <tr>\n",
              "      <th>4</th>\n",
              "      <td>7.4</td>\n",
              "      <td>0.70</td>\n",
              "      <td>0.00</td>\n",
              "      <td>1.9</td>\n",
              "      <td>0.076</td>\n",
              "      <td>11.0</td>\n",
              "      <td>34.0</td>\n",
              "      <td>0.9978</td>\n",
              "      <td>3.51</td>\n",
              "      <td>0.56</td>\n",
              "      <td>9.4</td>\n",
              "      <td>5</td>\n",
              "    </tr>\n",
              "  </tbody>\n",
              "</table>\n",
              "</div>"
            ],
            "text/plain": [
              "   fixed acidity  volatile acidity  citric acid  ...  sulphates  alcohol  quality\n",
              "0            7.4              0.70         0.00  ...       0.56      9.4        5\n",
              "1            7.8              0.88         0.00  ...       0.68      9.8        5\n",
              "2            7.8              0.76         0.04  ...       0.65      9.8        5\n",
              "3           11.2              0.28         0.56  ...       0.58      9.8        6\n",
              "4            7.4              0.70         0.00  ...       0.56      9.4        5\n",
              "\n",
              "[5 rows x 12 columns]"
            ]
          },
          "metadata": {
            "tags": []
          },
          "execution_count": 8
        }
      ]
    },
    {
      "cell_type": "code",
      "metadata": {
        "colab": {
          "base_uri": "https://localhost:8080/",
          "height": 204
        },
        "id": "UNeY8mrpctQ3",
        "outputId": "90069579-6628-48c5-c418-4bd83c480730"
      },
      "source": [
        "df_branco.head()"
      ],
      "execution_count": null,
      "outputs": [
        {
          "output_type": "execute_result",
          "data": {
            "text/html": [
              "<div>\n",
              "<style scoped>\n",
              "    .dataframe tbody tr th:only-of-type {\n",
              "        vertical-align: middle;\n",
              "    }\n",
              "\n",
              "    .dataframe tbody tr th {\n",
              "        vertical-align: top;\n",
              "    }\n",
              "\n",
              "    .dataframe thead th {\n",
              "        text-align: right;\n",
              "    }\n",
              "</style>\n",
              "<table border=\"1\" class=\"dataframe\">\n",
              "  <thead>\n",
              "    <tr style=\"text-align: right;\">\n",
              "      <th></th>\n",
              "      <th>fixed acidity</th>\n",
              "      <th>volatile acidity</th>\n",
              "      <th>citric acid</th>\n",
              "      <th>residual sugar</th>\n",
              "      <th>chlorides</th>\n",
              "      <th>free sulfur dioxide</th>\n",
              "      <th>total sulfur dioxide</th>\n",
              "      <th>density</th>\n",
              "      <th>pH</th>\n",
              "      <th>sulphates</th>\n",
              "      <th>alcohol</th>\n",
              "      <th>quality</th>\n",
              "    </tr>\n",
              "  </thead>\n",
              "  <tbody>\n",
              "    <tr>\n",
              "      <th>0</th>\n",
              "      <td>7.0</td>\n",
              "      <td>0.27</td>\n",
              "      <td>0.36</td>\n",
              "      <td>20.7</td>\n",
              "      <td>0.045</td>\n",
              "      <td>45.0</td>\n",
              "      <td>170.0</td>\n",
              "      <td>1.0010</td>\n",
              "      <td>3.00</td>\n",
              "      <td>0.45</td>\n",
              "      <td>8.8</td>\n",
              "      <td>6</td>\n",
              "    </tr>\n",
              "    <tr>\n",
              "      <th>1</th>\n",
              "      <td>6.3</td>\n",
              "      <td>0.30</td>\n",
              "      <td>0.34</td>\n",
              "      <td>1.6</td>\n",
              "      <td>0.049</td>\n",
              "      <td>14.0</td>\n",
              "      <td>132.0</td>\n",
              "      <td>0.9940</td>\n",
              "      <td>3.30</td>\n",
              "      <td>0.49</td>\n",
              "      <td>9.5</td>\n",
              "      <td>6</td>\n",
              "    </tr>\n",
              "    <tr>\n",
              "      <th>2</th>\n",
              "      <td>8.1</td>\n",
              "      <td>0.28</td>\n",
              "      <td>0.40</td>\n",
              "      <td>6.9</td>\n",
              "      <td>0.050</td>\n",
              "      <td>30.0</td>\n",
              "      <td>97.0</td>\n",
              "      <td>0.9951</td>\n",
              "      <td>3.26</td>\n",
              "      <td>0.44</td>\n",
              "      <td>10.1</td>\n",
              "      <td>6</td>\n",
              "    </tr>\n",
              "    <tr>\n",
              "      <th>3</th>\n",
              "      <td>7.2</td>\n",
              "      <td>0.23</td>\n",
              "      <td>0.32</td>\n",
              "      <td>8.5</td>\n",
              "      <td>0.058</td>\n",
              "      <td>47.0</td>\n",
              "      <td>186.0</td>\n",
              "      <td>0.9956</td>\n",
              "      <td>3.19</td>\n",
              "      <td>0.40</td>\n",
              "      <td>9.9</td>\n",
              "      <td>6</td>\n",
              "    </tr>\n",
              "    <tr>\n",
              "      <th>4</th>\n",
              "      <td>7.2</td>\n",
              "      <td>0.23</td>\n",
              "      <td>0.32</td>\n",
              "      <td>8.5</td>\n",
              "      <td>0.058</td>\n",
              "      <td>47.0</td>\n",
              "      <td>186.0</td>\n",
              "      <td>0.9956</td>\n",
              "      <td>3.19</td>\n",
              "      <td>0.40</td>\n",
              "      <td>9.9</td>\n",
              "      <td>6</td>\n",
              "    </tr>\n",
              "  </tbody>\n",
              "</table>\n",
              "</div>"
            ],
            "text/plain": [
              "   fixed acidity  volatile acidity  citric acid  ...  sulphates  alcohol  quality\n",
              "0            7.0              0.27         0.36  ...       0.45      8.8        6\n",
              "1            6.3              0.30         0.34  ...       0.49      9.5        6\n",
              "2            8.1              0.28         0.40  ...       0.44     10.1        6\n",
              "3            7.2              0.23         0.32  ...       0.40      9.9        6\n",
              "4            7.2              0.23         0.32  ...       0.40      9.9        6\n",
              "\n",
              "[5 rows x 12 columns]"
            ]
          },
          "metadata": {
            "tags": []
          },
          "execution_count": 11
        }
      ]
    },
    {
      "cell_type": "code",
      "metadata": {
        "colab": {
          "base_uri": "https://localhost:8080/",
          "height": 359
        },
        "id": "PXxJ58GKi6TY",
        "outputId": "a758106c-4986-476f-fee2-32511c68bb2a"
      },
      "source": [
        "df_tinto.sample(10)"
      ],
      "execution_count": null,
      "outputs": [
        {
          "output_type": "execute_result",
          "data": {
            "text/html": [
              "<div>\n",
              "<style scoped>\n",
              "    .dataframe tbody tr th:only-of-type {\n",
              "        vertical-align: middle;\n",
              "    }\n",
              "\n",
              "    .dataframe tbody tr th {\n",
              "        vertical-align: top;\n",
              "    }\n",
              "\n",
              "    .dataframe thead th {\n",
              "        text-align: right;\n",
              "    }\n",
              "</style>\n",
              "<table border=\"1\" class=\"dataframe\">\n",
              "  <thead>\n",
              "    <tr style=\"text-align: right;\">\n",
              "      <th></th>\n",
              "      <th>fixed acidity</th>\n",
              "      <th>volatile acidity</th>\n",
              "      <th>citric acid</th>\n",
              "      <th>residual sugar</th>\n",
              "      <th>chlorides</th>\n",
              "      <th>free sulfur dioxide</th>\n",
              "      <th>total sulfur dioxide</th>\n",
              "      <th>density</th>\n",
              "      <th>pH</th>\n",
              "      <th>sulphates</th>\n",
              "      <th>alcohol</th>\n",
              "      <th>quality</th>\n",
              "    </tr>\n",
              "  </thead>\n",
              "  <tbody>\n",
              "    <tr>\n",
              "      <th>1227</th>\n",
              "      <td>9.0</td>\n",
              "      <td>0.58</td>\n",
              "      <td>0.25</td>\n",
              "      <td>2.0</td>\n",
              "      <td>0.104</td>\n",
              "      <td>8.0</td>\n",
              "      <td>21.0</td>\n",
              "      <td>0.99769</td>\n",
              "      <td>3.27</td>\n",
              "      <td>0.72</td>\n",
              "      <td>9.6</td>\n",
              "      <td>5</td>\n",
              "    </tr>\n",
              "    <tr>\n",
              "      <th>1574</th>\n",
              "      <td>5.6</td>\n",
              "      <td>0.31</td>\n",
              "      <td>0.78</td>\n",
              "      <td>13.9</td>\n",
              "      <td>0.074</td>\n",
              "      <td>23.0</td>\n",
              "      <td>92.0</td>\n",
              "      <td>0.99677</td>\n",
              "      <td>3.39</td>\n",
              "      <td>0.48</td>\n",
              "      <td>10.5</td>\n",
              "      <td>6</td>\n",
              "    </tr>\n",
              "    <tr>\n",
              "      <th>328</th>\n",
              "      <td>13.4</td>\n",
              "      <td>0.27</td>\n",
              "      <td>0.62</td>\n",
              "      <td>2.6</td>\n",
              "      <td>0.082</td>\n",
              "      <td>6.0</td>\n",
              "      <td>21.0</td>\n",
              "      <td>1.00020</td>\n",
              "      <td>3.16</td>\n",
              "      <td>0.67</td>\n",
              "      <td>9.7</td>\n",
              "      <td>6</td>\n",
              "    </tr>\n",
              "    <tr>\n",
              "      <th>994</th>\n",
              "      <td>10.0</td>\n",
              "      <td>0.35</td>\n",
              "      <td>0.45</td>\n",
              "      <td>2.5</td>\n",
              "      <td>0.092</td>\n",
              "      <td>20.0</td>\n",
              "      <td>88.0</td>\n",
              "      <td>0.99918</td>\n",
              "      <td>3.15</td>\n",
              "      <td>0.43</td>\n",
              "      <td>9.4</td>\n",
              "      <td>5</td>\n",
              "    </tr>\n",
              "    <tr>\n",
              "      <th>1043</th>\n",
              "      <td>9.5</td>\n",
              "      <td>0.39</td>\n",
              "      <td>0.41</td>\n",
              "      <td>8.9</td>\n",
              "      <td>0.069</td>\n",
              "      <td>18.0</td>\n",
              "      <td>39.0</td>\n",
              "      <td>0.99859</td>\n",
              "      <td>3.29</td>\n",
              "      <td>0.81</td>\n",
              "      <td>10.9</td>\n",
              "      <td>7</td>\n",
              "    </tr>\n",
              "    <tr>\n",
              "      <th>322</th>\n",
              "      <td>7.8</td>\n",
              "      <td>0.62</td>\n",
              "      <td>0.05</td>\n",
              "      <td>2.3</td>\n",
              "      <td>0.079</td>\n",
              "      <td>6.0</td>\n",
              "      <td>18.0</td>\n",
              "      <td>0.99735</td>\n",
              "      <td>3.29</td>\n",
              "      <td>0.63</td>\n",
              "      <td>9.3</td>\n",
              "      <td>5</td>\n",
              "    </tr>\n",
              "    <tr>\n",
              "      <th>406</th>\n",
              "      <td>9.8</td>\n",
              "      <td>0.44</td>\n",
              "      <td>0.47</td>\n",
              "      <td>2.5</td>\n",
              "      <td>0.063</td>\n",
              "      <td>9.0</td>\n",
              "      <td>28.0</td>\n",
              "      <td>0.99810</td>\n",
              "      <td>3.24</td>\n",
              "      <td>0.65</td>\n",
              "      <td>10.8</td>\n",
              "      <td>6</td>\n",
              "    </tr>\n",
              "    <tr>\n",
              "      <th>1386</th>\n",
              "      <td>7.4</td>\n",
              "      <td>0.64</td>\n",
              "      <td>0.07</td>\n",
              "      <td>1.8</td>\n",
              "      <td>0.100</td>\n",
              "      <td>8.0</td>\n",
              "      <td>23.0</td>\n",
              "      <td>0.99610</td>\n",
              "      <td>3.30</td>\n",
              "      <td>0.58</td>\n",
              "      <td>9.6</td>\n",
              "      <td>5</td>\n",
              "    </tr>\n",
              "    <tr>\n",
              "      <th>475</th>\n",
              "      <td>9.6</td>\n",
              "      <td>0.68</td>\n",
              "      <td>0.24</td>\n",
              "      <td>2.2</td>\n",
              "      <td>0.087</td>\n",
              "      <td>5.0</td>\n",
              "      <td>28.0</td>\n",
              "      <td>0.99880</td>\n",
              "      <td>3.14</td>\n",
              "      <td>0.60</td>\n",
              "      <td>10.2</td>\n",
              "      <td>5</td>\n",
              "    </tr>\n",
              "    <tr>\n",
              "      <th>535</th>\n",
              "      <td>9.1</td>\n",
              "      <td>0.22</td>\n",
              "      <td>0.24</td>\n",
              "      <td>2.1</td>\n",
              "      <td>0.078</td>\n",
              "      <td>1.0</td>\n",
              "      <td>28.0</td>\n",
              "      <td>0.99900</td>\n",
              "      <td>3.41</td>\n",
              "      <td>0.87</td>\n",
              "      <td>10.3</td>\n",
              "      <td>6</td>\n",
              "    </tr>\n",
              "  </tbody>\n",
              "</table>\n",
              "</div>"
            ],
            "text/plain": [
              "      fixed acidity  volatile acidity  citric acid  ...  sulphates  alcohol  quality\n",
              "1227            9.0              0.58         0.25  ...       0.72      9.6        5\n",
              "1574            5.6              0.31         0.78  ...       0.48     10.5        6\n",
              "328            13.4              0.27         0.62  ...       0.67      9.7        6\n",
              "994            10.0              0.35         0.45  ...       0.43      9.4        5\n",
              "1043            9.5              0.39         0.41  ...       0.81     10.9        7\n",
              "322             7.8              0.62         0.05  ...       0.63      9.3        5\n",
              "406             9.8              0.44         0.47  ...       0.65     10.8        6\n",
              "1386            7.4              0.64         0.07  ...       0.58      9.6        5\n",
              "475             9.6              0.68         0.24  ...       0.60     10.2        5\n",
              "535             9.1              0.22         0.24  ...       0.87     10.3        6\n",
              "\n",
              "[10 rows x 12 columns]"
            ]
          },
          "metadata": {
            "tags": []
          },
          "execution_count": 12
        }
      ]
    },
    {
      "cell_type": "code",
      "metadata": {
        "colab": {
          "base_uri": "https://localhost:8080/",
          "height": 359
        },
        "id": "zyTofsB1c0KT",
        "outputId": "89bc8e4b-8d03-4af6-dad2-b21923cef8aa"
      },
      "source": [
        "df_branco.sample(10)"
      ],
      "execution_count": null,
      "outputs": [
        {
          "output_type": "execute_result",
          "data": {
            "text/html": [
              "<div>\n",
              "<style scoped>\n",
              "    .dataframe tbody tr th:only-of-type {\n",
              "        vertical-align: middle;\n",
              "    }\n",
              "\n",
              "    .dataframe tbody tr th {\n",
              "        vertical-align: top;\n",
              "    }\n",
              "\n",
              "    .dataframe thead th {\n",
              "        text-align: right;\n",
              "    }\n",
              "</style>\n",
              "<table border=\"1\" class=\"dataframe\">\n",
              "  <thead>\n",
              "    <tr style=\"text-align: right;\">\n",
              "      <th></th>\n",
              "      <th>fixed acidity</th>\n",
              "      <th>volatile acidity</th>\n",
              "      <th>citric acid</th>\n",
              "      <th>residual sugar</th>\n",
              "      <th>chlorides</th>\n",
              "      <th>free sulfur dioxide</th>\n",
              "      <th>total sulfur dioxide</th>\n",
              "      <th>density</th>\n",
              "      <th>pH</th>\n",
              "      <th>sulphates</th>\n",
              "      <th>alcohol</th>\n",
              "      <th>quality</th>\n",
              "    </tr>\n",
              "  </thead>\n",
              "  <tbody>\n",
              "    <tr>\n",
              "      <th>766</th>\n",
              "      <td>6.7</td>\n",
              "      <td>0.50</td>\n",
              "      <td>0.63</td>\n",
              "      <td>13.40</td>\n",
              "      <td>0.078</td>\n",
              "      <td>81.0</td>\n",
              "      <td>238.0</td>\n",
              "      <td>0.99880</td>\n",
              "      <td>3.08</td>\n",
              "      <td>0.44</td>\n",
              "      <td>9.2</td>\n",
              "      <td>5</td>\n",
              "    </tr>\n",
              "    <tr>\n",
              "      <th>869</th>\n",
              "      <td>7.3</td>\n",
              "      <td>0.24</td>\n",
              "      <td>0.29</td>\n",
              "      <td>1.20</td>\n",
              "      <td>0.037</td>\n",
              "      <td>37.0</td>\n",
              "      <td>97.0</td>\n",
              "      <td>0.99260</td>\n",
              "      <td>3.19</td>\n",
              "      <td>0.70</td>\n",
              "      <td>10.1</td>\n",
              "      <td>6</td>\n",
              "    </tr>\n",
              "    <tr>\n",
              "      <th>1483</th>\n",
              "      <td>6.9</td>\n",
              "      <td>0.25</td>\n",
              "      <td>0.24</td>\n",
              "      <td>3.60</td>\n",
              "      <td>0.057</td>\n",
              "      <td>13.0</td>\n",
              "      <td>85.0</td>\n",
              "      <td>0.99420</td>\n",
              "      <td>2.99</td>\n",
              "      <td>0.48</td>\n",
              "      <td>9.5</td>\n",
              "      <td>4</td>\n",
              "    </tr>\n",
              "    <tr>\n",
              "      <th>1175</th>\n",
              "      <td>6.4</td>\n",
              "      <td>0.25</td>\n",
              "      <td>0.41</td>\n",
              "      <td>8.60</td>\n",
              "      <td>0.042</td>\n",
              "      <td>57.0</td>\n",
              "      <td>173.0</td>\n",
              "      <td>0.99650</td>\n",
              "      <td>3.00</td>\n",
              "      <td>0.44</td>\n",
              "      <td>9.1</td>\n",
              "      <td>5</td>\n",
              "    </tr>\n",
              "    <tr>\n",
              "      <th>2629</th>\n",
              "      <td>5.8</td>\n",
              "      <td>0.60</td>\n",
              "      <td>0.00</td>\n",
              "      <td>1.30</td>\n",
              "      <td>0.044</td>\n",
              "      <td>72.0</td>\n",
              "      <td>197.0</td>\n",
              "      <td>0.99202</td>\n",
              "      <td>3.56</td>\n",
              "      <td>0.43</td>\n",
              "      <td>10.9</td>\n",
              "      <td>5</td>\n",
              "    </tr>\n",
              "    <tr>\n",
              "      <th>2472</th>\n",
              "      <td>8.8</td>\n",
              "      <td>0.24</td>\n",
              "      <td>0.23</td>\n",
              "      <td>10.30</td>\n",
              "      <td>0.032</td>\n",
              "      <td>12.0</td>\n",
              "      <td>97.0</td>\n",
              "      <td>0.99571</td>\n",
              "      <td>3.13</td>\n",
              "      <td>0.40</td>\n",
              "      <td>10.7</td>\n",
              "      <td>6</td>\n",
              "    </tr>\n",
              "    <tr>\n",
              "      <th>4631</th>\n",
              "      <td>6.6</td>\n",
              "      <td>0.21</td>\n",
              "      <td>0.39</td>\n",
              "      <td>2.30</td>\n",
              "      <td>0.041</td>\n",
              "      <td>31.0</td>\n",
              "      <td>102.0</td>\n",
              "      <td>0.99221</td>\n",
              "      <td>3.22</td>\n",
              "      <td>0.58</td>\n",
              "      <td>10.9</td>\n",
              "      <td>7</td>\n",
              "    </tr>\n",
              "    <tr>\n",
              "      <th>4142</th>\n",
              "      <td>5.9</td>\n",
              "      <td>0.27</td>\n",
              "      <td>0.27</td>\n",
              "      <td>9.00</td>\n",
              "      <td>0.051</td>\n",
              "      <td>43.0</td>\n",
              "      <td>136.0</td>\n",
              "      <td>0.99410</td>\n",
              "      <td>3.25</td>\n",
              "      <td>0.53</td>\n",
              "      <td>10.7</td>\n",
              "      <td>6</td>\n",
              "    </tr>\n",
              "    <tr>\n",
              "      <th>2003</th>\n",
              "      <td>7.4</td>\n",
              "      <td>0.30</td>\n",
              "      <td>0.22</td>\n",
              "      <td>5.25</td>\n",
              "      <td>0.053</td>\n",
              "      <td>33.0</td>\n",
              "      <td>180.0</td>\n",
              "      <td>0.99260</td>\n",
              "      <td>3.13</td>\n",
              "      <td>0.45</td>\n",
              "      <td>11.6</td>\n",
              "      <td>6</td>\n",
              "    </tr>\n",
              "    <tr>\n",
              "      <th>583</th>\n",
              "      <td>7.4</td>\n",
              "      <td>0.24</td>\n",
              "      <td>0.22</td>\n",
              "      <td>10.70</td>\n",
              "      <td>0.042</td>\n",
              "      <td>26.0</td>\n",
              "      <td>81.0</td>\n",
              "      <td>0.99540</td>\n",
              "      <td>2.86</td>\n",
              "      <td>0.36</td>\n",
              "      <td>9.7</td>\n",
              "      <td>6</td>\n",
              "    </tr>\n",
              "  </tbody>\n",
              "</table>\n",
              "</div>"
            ],
            "text/plain": [
              "      fixed acidity  volatile acidity  citric acid  ...  sulphates  alcohol  quality\n",
              "766             6.7              0.50         0.63  ...       0.44      9.2        5\n",
              "869             7.3              0.24         0.29  ...       0.70     10.1        6\n",
              "1483            6.9              0.25         0.24  ...       0.48      9.5        4\n",
              "1175            6.4              0.25         0.41  ...       0.44      9.1        5\n",
              "2629            5.8              0.60         0.00  ...       0.43     10.9        5\n",
              "2472            8.8              0.24         0.23  ...       0.40     10.7        6\n",
              "4631            6.6              0.21         0.39  ...       0.58     10.9        7\n",
              "4142            5.9              0.27         0.27  ...       0.53     10.7        6\n",
              "2003            7.4              0.30         0.22  ...       0.45     11.6        6\n",
              "583             7.4              0.24         0.22  ...       0.36      9.7        6\n",
              "\n",
              "[10 rows x 12 columns]"
            ]
          },
          "metadata": {
            "tags": []
          },
          "execution_count": 13
        }
      ]
    },
    {
      "cell_type": "code",
      "metadata": {
        "colab": {
          "base_uri": "https://localhost:8080/",
          "height": 297
        },
        "id": "R6P3h4aXikZo",
        "outputId": "6bd43ebf-981b-469f-b216-34709549bdc6"
      },
      "source": [
        "df_tinto.describe()"
      ],
      "execution_count": null,
      "outputs": [
        {
          "output_type": "execute_result",
          "data": {
            "text/html": [
              "<div>\n",
              "<style scoped>\n",
              "    .dataframe tbody tr th:only-of-type {\n",
              "        vertical-align: middle;\n",
              "    }\n",
              "\n",
              "    .dataframe tbody tr th {\n",
              "        vertical-align: top;\n",
              "    }\n",
              "\n",
              "    .dataframe thead th {\n",
              "        text-align: right;\n",
              "    }\n",
              "</style>\n",
              "<table border=\"1\" class=\"dataframe\">\n",
              "  <thead>\n",
              "    <tr style=\"text-align: right;\">\n",
              "      <th></th>\n",
              "      <th>fixed acidity</th>\n",
              "      <th>volatile acidity</th>\n",
              "      <th>citric acid</th>\n",
              "      <th>residual sugar</th>\n",
              "      <th>chlorides</th>\n",
              "      <th>free sulfur dioxide</th>\n",
              "      <th>total sulfur dioxide</th>\n",
              "      <th>density</th>\n",
              "      <th>pH</th>\n",
              "      <th>sulphates</th>\n",
              "      <th>alcohol</th>\n",
              "      <th>quality</th>\n",
              "    </tr>\n",
              "  </thead>\n",
              "  <tbody>\n",
              "    <tr>\n",
              "      <th>count</th>\n",
              "      <td>1599.000000</td>\n",
              "      <td>1599.000000</td>\n",
              "      <td>1599.000000</td>\n",
              "      <td>1599.000000</td>\n",
              "      <td>1599.000000</td>\n",
              "      <td>1599.000000</td>\n",
              "      <td>1599.000000</td>\n",
              "      <td>1599.000000</td>\n",
              "      <td>1599.000000</td>\n",
              "      <td>1599.000000</td>\n",
              "      <td>1599.000000</td>\n",
              "      <td>1599.000000</td>\n",
              "    </tr>\n",
              "    <tr>\n",
              "      <th>mean</th>\n",
              "      <td>8.319637</td>\n",
              "      <td>0.527821</td>\n",
              "      <td>0.270976</td>\n",
              "      <td>2.538806</td>\n",
              "      <td>0.087467</td>\n",
              "      <td>15.874922</td>\n",
              "      <td>46.467792</td>\n",
              "      <td>0.996747</td>\n",
              "      <td>3.311113</td>\n",
              "      <td>0.658149</td>\n",
              "      <td>10.422983</td>\n",
              "      <td>5.636023</td>\n",
              "    </tr>\n",
              "    <tr>\n",
              "      <th>std</th>\n",
              "      <td>1.741096</td>\n",
              "      <td>0.179060</td>\n",
              "      <td>0.194801</td>\n",
              "      <td>1.409928</td>\n",
              "      <td>0.047065</td>\n",
              "      <td>10.460157</td>\n",
              "      <td>32.895324</td>\n",
              "      <td>0.001887</td>\n",
              "      <td>0.154386</td>\n",
              "      <td>0.169507</td>\n",
              "      <td>1.065668</td>\n",
              "      <td>0.807569</td>\n",
              "    </tr>\n",
              "    <tr>\n",
              "      <th>min</th>\n",
              "      <td>4.600000</td>\n",
              "      <td>0.120000</td>\n",
              "      <td>0.000000</td>\n",
              "      <td>0.900000</td>\n",
              "      <td>0.012000</td>\n",
              "      <td>1.000000</td>\n",
              "      <td>6.000000</td>\n",
              "      <td>0.990070</td>\n",
              "      <td>2.740000</td>\n",
              "      <td>0.330000</td>\n",
              "      <td>8.400000</td>\n",
              "      <td>3.000000</td>\n",
              "    </tr>\n",
              "    <tr>\n",
              "      <th>25%</th>\n",
              "      <td>7.100000</td>\n",
              "      <td>0.390000</td>\n",
              "      <td>0.090000</td>\n",
              "      <td>1.900000</td>\n",
              "      <td>0.070000</td>\n",
              "      <td>7.000000</td>\n",
              "      <td>22.000000</td>\n",
              "      <td>0.995600</td>\n",
              "      <td>3.210000</td>\n",
              "      <td>0.550000</td>\n",
              "      <td>9.500000</td>\n",
              "      <td>5.000000</td>\n",
              "    </tr>\n",
              "    <tr>\n",
              "      <th>50%</th>\n",
              "      <td>7.900000</td>\n",
              "      <td>0.520000</td>\n",
              "      <td>0.260000</td>\n",
              "      <td>2.200000</td>\n",
              "      <td>0.079000</td>\n",
              "      <td>14.000000</td>\n",
              "      <td>38.000000</td>\n",
              "      <td>0.996750</td>\n",
              "      <td>3.310000</td>\n",
              "      <td>0.620000</td>\n",
              "      <td>10.200000</td>\n",
              "      <td>6.000000</td>\n",
              "    </tr>\n",
              "    <tr>\n",
              "      <th>75%</th>\n",
              "      <td>9.200000</td>\n",
              "      <td>0.640000</td>\n",
              "      <td>0.420000</td>\n",
              "      <td>2.600000</td>\n",
              "      <td>0.090000</td>\n",
              "      <td>21.000000</td>\n",
              "      <td>62.000000</td>\n",
              "      <td>0.997835</td>\n",
              "      <td>3.400000</td>\n",
              "      <td>0.730000</td>\n",
              "      <td>11.100000</td>\n",
              "      <td>6.000000</td>\n",
              "    </tr>\n",
              "    <tr>\n",
              "      <th>max</th>\n",
              "      <td>15.900000</td>\n",
              "      <td>1.580000</td>\n",
              "      <td>1.000000</td>\n",
              "      <td>15.500000</td>\n",
              "      <td>0.611000</td>\n",
              "      <td>72.000000</td>\n",
              "      <td>289.000000</td>\n",
              "      <td>1.003690</td>\n",
              "      <td>4.010000</td>\n",
              "      <td>2.000000</td>\n",
              "      <td>14.900000</td>\n",
              "      <td>8.000000</td>\n",
              "    </tr>\n",
              "  </tbody>\n",
              "</table>\n",
              "</div>"
            ],
            "text/plain": [
              "       fixed acidity  volatile acidity  ...      alcohol      quality\n",
              "count    1599.000000       1599.000000  ...  1599.000000  1599.000000\n",
              "mean        8.319637          0.527821  ...    10.422983     5.636023\n",
              "std         1.741096          0.179060  ...     1.065668     0.807569\n",
              "min         4.600000          0.120000  ...     8.400000     3.000000\n",
              "25%         7.100000          0.390000  ...     9.500000     5.000000\n",
              "50%         7.900000          0.520000  ...    10.200000     6.000000\n",
              "75%         9.200000          0.640000  ...    11.100000     6.000000\n",
              "max        15.900000          1.580000  ...    14.900000     8.000000\n",
              "\n",
              "[8 rows x 12 columns]"
            ]
          },
          "metadata": {
            "tags": []
          },
          "execution_count": 14
        }
      ]
    },
    {
      "cell_type": "code",
      "metadata": {
        "colab": {
          "base_uri": "https://localhost:8080/",
          "height": 297
        },
        "id": "PPNBFsTic7ev",
        "outputId": "5378995c-045f-437d-b8e8-e386d74268eb"
      },
      "source": [
        "df_branco.describe()"
      ],
      "execution_count": null,
      "outputs": [
        {
          "output_type": "execute_result",
          "data": {
            "text/html": [
              "<div>\n",
              "<style scoped>\n",
              "    .dataframe tbody tr th:only-of-type {\n",
              "        vertical-align: middle;\n",
              "    }\n",
              "\n",
              "    .dataframe tbody tr th {\n",
              "        vertical-align: top;\n",
              "    }\n",
              "\n",
              "    .dataframe thead th {\n",
              "        text-align: right;\n",
              "    }\n",
              "</style>\n",
              "<table border=\"1\" class=\"dataframe\">\n",
              "  <thead>\n",
              "    <tr style=\"text-align: right;\">\n",
              "      <th></th>\n",
              "      <th>fixed acidity</th>\n",
              "      <th>volatile acidity</th>\n",
              "      <th>citric acid</th>\n",
              "      <th>residual sugar</th>\n",
              "      <th>chlorides</th>\n",
              "      <th>free sulfur dioxide</th>\n",
              "      <th>total sulfur dioxide</th>\n",
              "      <th>density</th>\n",
              "      <th>pH</th>\n",
              "      <th>sulphates</th>\n",
              "      <th>alcohol</th>\n",
              "      <th>quality</th>\n",
              "    </tr>\n",
              "  </thead>\n",
              "  <tbody>\n",
              "    <tr>\n",
              "      <th>count</th>\n",
              "      <td>4898.000000</td>\n",
              "      <td>4898.000000</td>\n",
              "      <td>4898.000000</td>\n",
              "      <td>4898.000000</td>\n",
              "      <td>4898.000000</td>\n",
              "      <td>4898.000000</td>\n",
              "      <td>4898.000000</td>\n",
              "      <td>4898.000000</td>\n",
              "      <td>4898.000000</td>\n",
              "      <td>4898.000000</td>\n",
              "      <td>4898.000000</td>\n",
              "      <td>4898.000000</td>\n",
              "    </tr>\n",
              "    <tr>\n",
              "      <th>mean</th>\n",
              "      <td>6.854788</td>\n",
              "      <td>0.278241</td>\n",
              "      <td>0.334192</td>\n",
              "      <td>6.391415</td>\n",
              "      <td>0.045772</td>\n",
              "      <td>35.308085</td>\n",
              "      <td>138.360657</td>\n",
              "      <td>0.994027</td>\n",
              "      <td>3.188267</td>\n",
              "      <td>0.489847</td>\n",
              "      <td>10.514267</td>\n",
              "      <td>5.877909</td>\n",
              "    </tr>\n",
              "    <tr>\n",
              "      <th>std</th>\n",
              "      <td>0.843868</td>\n",
              "      <td>0.100795</td>\n",
              "      <td>0.121020</td>\n",
              "      <td>5.072058</td>\n",
              "      <td>0.021848</td>\n",
              "      <td>17.007137</td>\n",
              "      <td>42.498065</td>\n",
              "      <td>0.002991</td>\n",
              "      <td>0.151001</td>\n",
              "      <td>0.114126</td>\n",
              "      <td>1.230621</td>\n",
              "      <td>0.885639</td>\n",
              "    </tr>\n",
              "    <tr>\n",
              "      <th>min</th>\n",
              "      <td>3.800000</td>\n",
              "      <td>0.080000</td>\n",
              "      <td>0.000000</td>\n",
              "      <td>0.600000</td>\n",
              "      <td>0.009000</td>\n",
              "      <td>2.000000</td>\n",
              "      <td>9.000000</td>\n",
              "      <td>0.987110</td>\n",
              "      <td>2.720000</td>\n",
              "      <td>0.220000</td>\n",
              "      <td>8.000000</td>\n",
              "      <td>3.000000</td>\n",
              "    </tr>\n",
              "    <tr>\n",
              "      <th>25%</th>\n",
              "      <td>6.300000</td>\n",
              "      <td>0.210000</td>\n",
              "      <td>0.270000</td>\n",
              "      <td>1.700000</td>\n",
              "      <td>0.036000</td>\n",
              "      <td>23.000000</td>\n",
              "      <td>108.000000</td>\n",
              "      <td>0.991723</td>\n",
              "      <td>3.090000</td>\n",
              "      <td>0.410000</td>\n",
              "      <td>9.500000</td>\n",
              "      <td>5.000000</td>\n",
              "    </tr>\n",
              "    <tr>\n",
              "      <th>50%</th>\n",
              "      <td>6.800000</td>\n",
              "      <td>0.260000</td>\n",
              "      <td>0.320000</td>\n",
              "      <td>5.200000</td>\n",
              "      <td>0.043000</td>\n",
              "      <td>34.000000</td>\n",
              "      <td>134.000000</td>\n",
              "      <td>0.993740</td>\n",
              "      <td>3.180000</td>\n",
              "      <td>0.470000</td>\n",
              "      <td>10.400000</td>\n",
              "      <td>6.000000</td>\n",
              "    </tr>\n",
              "    <tr>\n",
              "      <th>75%</th>\n",
              "      <td>7.300000</td>\n",
              "      <td>0.320000</td>\n",
              "      <td>0.390000</td>\n",
              "      <td>9.900000</td>\n",
              "      <td>0.050000</td>\n",
              "      <td>46.000000</td>\n",
              "      <td>167.000000</td>\n",
              "      <td>0.996100</td>\n",
              "      <td>3.280000</td>\n",
              "      <td>0.550000</td>\n",
              "      <td>11.400000</td>\n",
              "      <td>6.000000</td>\n",
              "    </tr>\n",
              "    <tr>\n",
              "      <th>max</th>\n",
              "      <td>14.200000</td>\n",
              "      <td>1.100000</td>\n",
              "      <td>1.660000</td>\n",
              "      <td>65.800000</td>\n",
              "      <td>0.346000</td>\n",
              "      <td>289.000000</td>\n",
              "      <td>440.000000</td>\n",
              "      <td>1.038980</td>\n",
              "      <td>3.820000</td>\n",
              "      <td>1.080000</td>\n",
              "      <td>14.200000</td>\n",
              "      <td>9.000000</td>\n",
              "    </tr>\n",
              "  </tbody>\n",
              "</table>\n",
              "</div>"
            ],
            "text/plain": [
              "       fixed acidity  volatile acidity  ...      alcohol      quality\n",
              "count    4898.000000       4898.000000  ...  4898.000000  4898.000000\n",
              "mean        6.854788          0.278241  ...    10.514267     5.877909\n",
              "std         0.843868          0.100795  ...     1.230621     0.885639\n",
              "min         3.800000          0.080000  ...     8.000000     3.000000\n",
              "25%         6.300000          0.210000  ...     9.500000     5.000000\n",
              "50%         6.800000          0.260000  ...    10.400000     6.000000\n",
              "75%         7.300000          0.320000  ...    11.400000     6.000000\n",
              "max        14.200000          1.100000  ...    14.200000     9.000000\n",
              "\n",
              "[8 rows x 12 columns]"
            ]
          },
          "metadata": {
            "tags": []
          },
          "execution_count": 15
        }
      ]
    },
    {
      "cell_type": "code",
      "metadata": {
        "id": "YqNOhqFMkA-w"
      },
      "source": [
        "import matplotlib.pyplot as plt\n",
        "import seaborn as sns\n",
        "% matplotlib inline\n"
      ],
      "execution_count": 9,
      "outputs": []
    },
    {
      "cell_type": "code",
      "metadata": {
        "colab": {
          "base_uri": "https://localhost:8080/",
          "height": 1000
        },
        "id": "de0IFqJCoBjd",
        "outputId": "1dc1c38c-b54f-4c5c-8745-58d14e036739"
      },
      "source": [
        "sns.displot(df_tinto['fixed acidity'], kde=False)\n",
        "sns.displot(df_tinto['volatile acidity'], kde=False)\n",
        "sns.displot(df_tinto['citric acid'], kde=False)\n",
        "sns.displot(df_tinto['residual sugar'], kde=False)\n",
        "sns.displot(df_tinto['chlorides'], kde=False)\n",
        "sns.displot(df_tinto['free sulfur dioxide'], kde=False)\n",
        "sns.displot(df_tinto['total sulfur dioxide'], kde=False)\n",
        "sns.displot(df_tinto['density'], kde=False)\n",
        "sns.displot(df_tinto['pH'], kde=False)\n",
        "sns.displot(df_tinto['sulphates'], kde=False)\n",
        "sns.displot(df_tinto['alcohol'], kde=False)\n",
        "sns.displot(df_tinto['quality'], kde=False)\n"
      ],
      "execution_count": null,
      "outputs": [
        {
          "output_type": "execute_result",
          "data": {
            "text/plain": [
              "<seaborn.axisgrid.FacetGrid at 0x7f17f7c2f250>"
            ]
          },
          "metadata": {
            "tags": []
          },
          "execution_count": 17
        },
        {
          "output_type": "display_data",
          "data": {
            "image/png": "[encoded data removed]",
            "text/plain": [
              "<Figure size 360x360 with 1 Axes>"
            ]
          },
          "metadata": {
            "tags": [],
            "needs_background": "light"
          }
        },
        {
          "output_type": "display_data",
          "data": {
            "image/png": "[encoded data removed]",
            "text/plain": [
              "<Figure size 360x360 with 1 Axes>"
            ]
          },
          "metadata": {
            "tags": [],
            "needs_background": "light"
          }
        },
        {
          "output_type": "display_data",
          "data": {
            "image/png": "[encoded data removed]",
            "text/plain": [
              "<Figure size 360x360 with 1 Axes>"
            ]
          },
          "metadata": {
            "tags": [],
            "needs_background": "light"
          }
        },
        {
          "output_type": "display_data",
          "data": {
            "image/png": "[encoded data removed]",
            "text/plain": [
              "<Figure size 360x360 with 1 Axes>"
            ]
          },
          "metadata": {
            "tags": [],
            "needs_background": "light"
          }
        },
        {
          "output_type": "display_data",
          "data": {
            "image/png": "[encoded data removed]",
            "text/plain": [
              "<Figure size 360x360 with 1 Axes>"
            ]
          },
          "metadata": {
            "tags": [],
            "needs_background": "light"
          }
        },
        {
          "output_type": "display_data",
          "data": {
            "image/png": "[encoded data removed]",
            "text/plain": [
              "<Figure size 360x360 with 1 Axes>"
            ]
          },
          "metadata": {
            "tags": [],
            "needs_background": "light"
          }
        },
        {
          "output_type": "display_data",
          "data": {
            "image/png": "[encoded data removed]",
            "text/plain": [
              "<Figure size 360x360 with 1 Axes>"
            ]
          },
          "metadata": {
            "tags": [],
            "needs_background": "light"
          }
        },
        {
          "output_type": "display_data",
          "data": {
            "image/png": "[encoded data removed]",
            "text/plain": [
              "<Figure size 360x360 with 1 Axes>"
            ]
          },
          "metadata": {
            "tags": [],
            "needs_background": "light"
          }
        },
        {
          "output_type": "display_data",
          "data": {
            "image/png": "[encoded data removed]",
            "text/plain": [
              "<Figure size 360x360 with 1 Axes>"
            ]
          },
          "metadata": {
            "tags": [],
            "needs_background": "light"
          }
        },
        {
          "output_type": "display_data",
          "data": {
            "image/png": "[encoded data removed]",
            "text/plain": [
              "<Figure size 360x360 with 1 Axes>"
            ]
          },
          "metadata": {
            "tags": [],
            "needs_background": "light"
          }
        },
        {
          "output_type": "display_data",
          "data": {
            "image/png": "[encoded data removed]",
            "text/plain": [
              "<Figure size 360x360 with 1 Axes>"
            ]
          },
          "metadata": {
            "tags": [],
            "needs_background": "light"
          }
        },
        {
          "output_type": "display_data",
          "data": {
            "image/png": "[encoded data removed]",
            "text/plain": [
              "<Figure size 360x360 with 1 Axes>"
            ]
          },
          "metadata": {
            "tags": [],
            "needs_background": "light"
          }
        }
      ]
    },
    {
      "cell_type": "code",
      "metadata": {
        "colab": {
          "base_uri": "https://localhost:8080/",
          "height": 1000
        },
        "id": "ogVHC3nPbdbo",
        "outputId": "f3dd27bb-f599-4dcb-e554-36f28525bad2"
      },
      "source": [
        "sns.displot(df_branco['fixed acidity'], kde=False)\n",
        "sns.displot(df_branco['volatile acidity'], kde=False)\n",
        "sns.displot(df_branco['citric acid'], kde=False)\n",
        "sns.displot(df_branco['residual sugar'], kde=False)\n",
        "sns.displot(df_branco['chlorides'], kde=False)\n",
        "sns.displot(df_branco['free sulfur dioxide'], kde=False)\n",
        "sns.displot(df_branco['total sulfur dioxide'], kde=False)\n",
        "sns.displot(df_branco['density'], kde=False)\n",
        "sns.displot(df_branco['pH'], kde=False)\n",
        "sns.displot(df_branco['sulphates'], kde=False)\n",
        "sns.displot(df_branco['alcohol'], kde=False)\n",
        "sns.displot(df_branco['quality'], kde=False)\n"
      ],
      "execution_count": null,
      "outputs": [
        {
          "output_type": "execute_result",
          "data": {
            "text/plain": [
              "<seaborn.axisgrid.FacetGrid at 0x7f17f6c4e6d0>"
            ]
          },
          "metadata": {
            "tags": []
          },
          "execution_count": 18
        },
        {
          "output_type": "display_data",
          "data": {
            "image/png": "[encoded data removed]",
            "text/plain": [
              "<Figure size 360x360 with 1 Axes>"
            ]
          },
          "metadata": {
            "tags": [],
            "needs_background": "light"
          }
        },
        {
          "output_type": "display_data",
          "data": {
            "image/png": "[encoded data removed]",
            "text/plain": [
              "<Figure size 360x360 with 1 Axes>"
            ]
          },
          "metadata": {
            "tags": [],
            "needs_background": "light"
          }
        },
        {
          "output_type": "display_data",
          "data": {
            "image/png": "[encoded data removed]",
            "text/plain": [
              "<Figure size 360x360 with 1 Axes>"
            ]
          },
          "metadata": {
            "tags": [],
            "needs_background": "light"
          }
        },
        {
          "output_type": "display_data",
          "data": {
            "image/png": "[encoded data removed]",
            "text/plain": [
              "<Figure size 360x360 with 1 Axes>"
            ]
          },
          "metadata": {
            "tags": [],
            "needs_background": "light"
          }
        },
        {
          "output_type": "display_data",
          "data": {
            "image/png": "[encoded data removed]",
            "text/plain": [
              "<Figure size 360x360 with 1 Axes>"
            ]
          },
          "metadata": {
            "tags": [],
            "needs_background": "light"
          }
        },
        {
          "output_type": "display_data",
          "data": {
            "image/png": "[encoded data removed]",
            "text/plain": [
              "<Figure size 360x360 with 1 Axes>"
            ]
          },
          "metadata": {
            "tags": [],
            "needs_background": "light"
          }
        },
        {
          "output_type": "display_data",
          "data": {
            "image/png": "[encoded data removed]",
            "text/plain": [
              "<Figure size 360x360 with 1 Axes>"
            ]
          },
          "metadata": {
            "tags": [],
            "needs_background": "light"
          }
        },
        {
          "output_type": "display_data",
          "data": {
            "image/png": "[encoded data removed]",
            "text/plain": [
              "<Figure size 360x360 with 1 Axes>"
            ]
          },
          "metadata": {
            "tags": [],
            "needs_background": "light"
          }
        },
        {
          "output_type": "display_data",
          "data": {
            "image/png": "[encoded data removed]",
            "text/plain": [
              "<Figure size 360x360 with 1 Axes>"
            ]
          },
          "metadata": {
            "tags": [],
            "needs_background": "light"
          }
        },
        {
          "output_type": "display_data",
          "data": {
            "image/png": "[encoded data removed]",
            "text/plain": [
              "<Figure size 360x360 with 1 Axes>"
            ]
          },
          "metadata": {
            "tags": [],
            "needs_background": "light"
          }
        },
        {
          "output_type": "display_data",
          "data": {
            "image/png": "[encoded data removed]",
            "text/plain": [
              "<Figure size 360x360 with 1 Axes>"
            ]
          },
          "metadata": {
            "tags": [],
            "needs_background": "light"
          }
        },
        {
          "output_type": "display_data",
          "data": {
            "image/png": "[encoded data removed]",
            "text/plain": [
              "<Figure size 360x360 with 1 Axes>"
            ]
          },
          "metadata": {
            "tags": [],
            "needs_background": "light"
          }
        }
      ]
    },
    {
      "cell_type": "code",
      "metadata": {
        "colab": {
          "base_uri": "https://localhost:8080/",
          "height": 296
        },
        "id": "LsyTgoDhoZ8l",
        "outputId": "37fac810-4365-465c-fb3c-b366b1f243a6"
      },
      "source": [
        "#talvez esse nao\n",
        "sns.countplot(x='fixed acidity', data = df_tinto)\n",
        "sns.countplot(x='volatile acidity', data = df_tinto)\n",
        "sns.countplot(x='citric acid', data = df_tinto)\n",
        "sns.countplot(x='residual sugar', data = df_tinto)\n",
        "sns.countplot(x='chlorides', data = df_tinto)\n",
        "sns.countplot(x='free sulfur dioxide', data = df_tinto)\n",
        "sns.countplot(x='total sulfur dioxide', data = df_tinto)\n",
        "sns.countplot(x='pH', data = df_tinto)\n",
        "sns.countplot(x='sulphates', data = df_tinto)\n",
        "sns.countplot(x='alcohol', data = df_tinto)\n",
        "sns.countplot(x='quality', data = df_tinto)"
      ],
      "execution_count": null,
      "outputs": [
        {
          "output_type": "execute_result",
          "data": {
            "text/plain": [
              "<matplotlib.axes._subplots.AxesSubplot at 0x7f17f7f828d0>"
            ]
          },
          "metadata": {
            "tags": []
          },
          "execution_count": 19
        },
        {
          "output_type": "display_data",
          "data": {
            "image/png": "[encoded data removed]",
            "text/plain": [
              "<Figure size 432x288 with 1 Axes>"
            ]
          },
          "metadata": {
            "tags": [],
            "needs_background": "light"
          }
        }
      ]
    },
    {
      "cell_type": "code",
      "metadata": {
        "colab": {
          "base_uri": "https://localhost:8080/",
          "height": 296
        },
        "id": "DZXJ3j81hwaP",
        "outputId": "2db10089-1845-436b-ba4e-d10344256fe8"
      },
      "source": [
        "#talvez esse nao\n",
        "sns.countplot(x='fixed acidity', data = df_branco)\n",
        "sns.countplot(x='volatile acidity', data = df_branco)\n",
        "sns.countplot(x='citric acid', data = df_branco)\n",
        "sns.countplot(x='residual sugar', data = df_branco)\n",
        "sns.countplot(x='chlorides', data = df_branco)\n",
        "sns.countplot(x='free sulfur dioxide', data = df_branco)\n",
        "sns.countplot(x='total sulfur dioxide', data = df_branco)\n",
        "sns.countplot(x='pH', data = df_branco)\n",
        "sns.countplot(x='sulphates', data = df_branco)\n",
        "sns.countplot(x='alcohol', data = df_branco)\n",
        "sns.countplot(x='quality', data = df_branco)"
      ],
      "execution_count": null,
      "outputs": [
        {
          "output_type": "execute_result",
          "data": {
            "text/plain": [
              "<matplotlib.axes._subplots.AxesSubplot at 0x7f17f85dc950>"
            ]
          },
          "metadata": {
            "tags": []
          },
          "execution_count": 20
        },
        {
          "output_type": "display_data",
          "data": {
            "image/png": "[encoded data removed]",
            "text/plain": [
              "<Figure size 432x288 with 1 Axes>"
            ]
          },
          "metadata": {
            "tags": [],
            "needs_background": "light"
          }
        }
      ]
    },
    {
      "cell_type": "markdown",
      "metadata": {
        "id": "jgRuGgRhbzWR"
      },
      "source": [
        "Preparar estes para todas as dimensões"
      ]
    },
    {
      "cell_type": "code",
      "metadata": {
        "id": "6Hjc3mSAkxd6",
        "colab": {
          "base_uri": "https://localhost:8080/",
          "height": 447
        },
        "outputId": "b7741450-da97-4373-9dd7-d70ffe0f4062"
      },
      "source": [
        "sns.set(font_scale=1.4)\n",
        "df_tinto['fixed acidity'].value_counts().plot(kind='barh', figsize=(7,6), rot=0)\n",
        "plt.xlabel('Fixed Acidity')\n",
        "plt.ylabel('Quantidade')\n",
        "plt.title('Distribuição de Fixed Acidity', y=1.02)"
      ],
      "execution_count": 10,
      "outputs": [
        {
          "output_type": "execute_result",
          "data": {
            "text/plain": [
              "Text(0.5, 1.02, 'Distribuição de Fixed Acidity')"
            ]
          },
          "metadata": {
            "tags": []
          },
          "execution_count": 10
        },
        {
          "output_type": "display_data",
          "data": {
            "image/png": "[encoded data removed]",
            "text/plain": [
              "<Figure size 504x432 with 1 Axes>"
            ]
          },
          "metadata": {
            "tags": []
          }
        }
      ]
    },
    {
      "cell_type": "code",
      "metadata": {
        "id": "GID443msotN-"
      },
      "source": [
        "sns.barplot(x='quality', y='alcohol', data = df_tinto)"
      ],
      "execution_count": null,
      "outputs": []
    },
    {
      "cell_type": "code",
      "metadata": {
        "id": "aYtSOdV9pGeC"
      },
      "source": [
        "sns.boxplot(x='quality', y='alcohol', data=df_tinto)\n",
        "sns.boxplot(x='quality', y='alcohol', data=df_tinto, hue='pH')\n",
        "sns.boxplot(x='quality', y='alcohol', data=df_tinto)"
      ],
      "execution_count": null,
      "outputs": []
    },
    {
      "cell_type": "markdown",
      "metadata": {
        "id": "lN9tzKCib5J-"
      },
      "source": [
        "Executar daqui em diante"
      ]
    },
    {
      "cell_type": "code",
      "metadata": {
        "colab": {
          "base_uri": "https://localhost:8080/",
          "height": 421
        },
        "id": "dbnkMOk1rIfR",
        "outputId": "e9b8f1c8-4700-49fe-bed1-db5a0ae21331"
      },
      "source": [
        "df_tinto.corr()"
      ],
      "execution_count": null,
      "outputs": [
        {
          "output_type": "execute_result",
          "data": {
            "text/html": [
              "<div>\n",
              "<style scoped>\n",
              "    .dataframe tbody tr th:only-of-type {\n",
              "        vertical-align: middle;\n",
              "    }\n",
              "\n",
              "    .dataframe tbody tr th {\n",
              "        vertical-align: top;\n",
              "    }\n",
              "\n",
              "    .dataframe thead th {\n",
              "        text-align: right;\n",
              "    }\n",
              "</style>\n",
              "<table border=\"1\" class=\"dataframe\">\n",
              "  <thead>\n",
              "    <tr style=\"text-align: right;\">\n",
              "      <th></th>\n",
              "      <th>fixed acidity</th>\n",
              "      <th>volatile acidity</th>\n",
              "      <th>citric acid</th>\n",
              "      <th>residual sugar</th>\n",
              "      <th>chlorides</th>\n",
              "      <th>free sulfur dioxide</th>\n",
              "      <th>total sulfur dioxide</th>\n",
              "      <th>density</th>\n",
              "      <th>pH</th>\n",
              "      <th>sulphates</th>\n",
              "      <th>alcohol</th>\n",
              "      <th>quality</th>\n",
              "    </tr>\n",
              "  </thead>\n",
              "  <tbody>\n",
              "    <tr>\n",
              "      <th>fixed acidity</th>\n",
              "      <td>1.000000</td>\n",
              "      <td>-0.256131</td>\n",
              "      <td>0.671703</td>\n",
              "      <td>0.114777</td>\n",
              "      <td>0.093705</td>\n",
              "      <td>-0.153794</td>\n",
              "      <td>-0.113181</td>\n",
              "      <td>0.668047</td>\n",
              "      <td>-0.682978</td>\n",
              "      <td>0.183006</td>\n",
              "      <td>-0.061668</td>\n",
              "      <td>0.124052</td>\n",
              "    </tr>\n",
              "    <tr>\n",
              "      <th>volatile acidity</th>\n",
              "      <td>-0.256131</td>\n",
              "      <td>1.000000</td>\n",
              "      <td>-0.552496</td>\n",
              "      <td>0.001918</td>\n",
              "      <td>0.061298</td>\n",
              "      <td>-0.010504</td>\n",
              "      <td>0.076470</td>\n",
              "      <td>0.022026</td>\n",
              "      <td>0.234937</td>\n",
              "      <td>-0.260987</td>\n",
              "      <td>-0.202288</td>\n",
              "      <td>-0.390558</td>\n",
              "    </tr>\n",
              "    <tr>\n",
              "      <th>citric acid</th>\n",
              "      <td>0.671703</td>\n",
              "      <td>-0.552496</td>\n",
              "      <td>1.000000</td>\n",
              "      <td>0.143577</td>\n",
              "      <td>0.203823</td>\n",
              "      <td>-0.060978</td>\n",
              "      <td>0.035533</td>\n",
              "      <td>0.364947</td>\n",
              "      <td>-0.541904</td>\n",
              "      <td>0.312770</td>\n",
              "      <td>0.109903</td>\n",
              "      <td>0.226373</td>\n",
              "    </tr>\n",
              "    <tr>\n",
              "      <th>residual sugar</th>\n",
              "      <td>0.114777</td>\n",
              "      <td>0.001918</td>\n",
              "      <td>0.143577</td>\n",
              "      <td>1.000000</td>\n",
              "      <td>0.055610</td>\n",
              "      <td>0.187049</td>\n",
              "      <td>0.203028</td>\n",
              "      <td>0.355283</td>\n",
              "      <td>-0.085652</td>\n",
              "      <td>0.005527</td>\n",
              "      <td>0.042075</td>\n",
              "      <td>0.013732</td>\n",
              "    </tr>\n",
              "    <tr>\n",
              "      <th>chlorides</th>\n",
              "      <td>0.093705</td>\n",
              "      <td>0.061298</td>\n",
              "      <td>0.203823</td>\n",
              "      <td>0.055610</td>\n",
              "      <td>1.000000</td>\n",
              "      <td>0.005562</td>\n",
              "      <td>0.047400</td>\n",
              "      <td>0.200632</td>\n",
              "      <td>-0.265026</td>\n",
              "      <td>0.371260</td>\n",
              "      <td>-0.221141</td>\n",
              "      <td>-0.128907</td>\n",
              "    </tr>\n",
              "    <tr>\n",
              "      <th>free sulfur dioxide</th>\n",
              "      <td>-0.153794</td>\n",
              "      <td>-0.010504</td>\n",
              "      <td>-0.060978</td>\n",
              "      <td>0.187049</td>\n",
              "      <td>0.005562</td>\n",
              "      <td>1.000000</td>\n",
              "      <td>0.667666</td>\n",
              "      <td>-0.021946</td>\n",
              "      <td>0.070377</td>\n",
              "      <td>0.051658</td>\n",
              "      <td>-0.069408</td>\n",
              "      <td>-0.050656</td>\n",
              "    </tr>\n",
              "    <tr>\n",
              "      <th>total sulfur dioxide</th>\n",
              "      <td>-0.113181</td>\n",
              "      <td>0.076470</td>\n",
              "      <td>0.035533</td>\n",
              "      <td>0.203028</td>\n",
              "      <td>0.047400</td>\n",
              "      <td>0.667666</td>\n",
              "      <td>1.000000</td>\n",
              "      <td>0.071269</td>\n",
              "      <td>-0.066495</td>\n",
              "      <td>0.042947</td>\n",
              "      <td>-0.205654</td>\n",
              "      <td>-0.185100</td>\n",
              "    </tr>\n",
              "    <tr>\n",
              "      <th>density</th>\n",
              "      <td>0.668047</td>\n",
              "      <td>0.022026</td>\n",
              "      <td>0.364947</td>\n",
              "      <td>0.355283</td>\n",
              "      <td>0.200632</td>\n",
              "      <td>-0.021946</td>\n",
              "      <td>0.071269</td>\n",
              "      <td>1.000000</td>\n",
              "      <td>-0.341699</td>\n",
              "      <td>0.148506</td>\n",
              "      <td>-0.496180</td>\n",
              "      <td>-0.174919</td>\n",
              "    </tr>\n",
              "    <tr>\n",
              "      <th>pH</th>\n",
              "      <td>-0.682978</td>\n",
              "      <td>0.234937</td>\n",
              "      <td>-0.541904</td>\n",
              "      <td>-0.085652</td>\n",
              "      <td>-0.265026</td>\n",
              "      <td>0.070377</td>\n",
              "      <td>-0.066495</td>\n",
              "      <td>-0.341699</td>\n",
              "      <td>1.000000</td>\n",
              "      <td>-0.196648</td>\n",
              "      <td>0.205633</td>\n",
              "      <td>-0.057731</td>\n",
              "    </tr>\n",
              "    <tr>\n",
              "      <th>sulphates</th>\n",
              "      <td>0.183006</td>\n",
              "      <td>-0.260987</td>\n",
              "      <td>0.312770</td>\n",
              "      <td>0.005527</td>\n",
              "      <td>0.371260</td>\n",
              "      <td>0.051658</td>\n",
              "      <td>0.042947</td>\n",
              "      <td>0.148506</td>\n",
              "      <td>-0.196648</td>\n",
              "      <td>1.000000</td>\n",
              "      <td>0.093595</td>\n",
              "      <td>0.251397</td>\n",
              "    </tr>\n",
              "    <tr>\n",
              "      <th>alcohol</th>\n",
              "      <td>-0.061668</td>\n",
              "      <td>-0.202288</td>\n",
              "      <td>0.109903</td>\n",
              "      <td>0.042075</td>\n",
              "      <td>-0.221141</td>\n",
              "      <td>-0.069408</td>\n",
              "      <td>-0.205654</td>\n",
              "      <td>-0.496180</td>\n",
              "      <td>0.205633</td>\n",
              "      <td>0.093595</td>\n",
              "      <td>1.000000</td>\n",
              "      <td>0.476166</td>\n",
              "    </tr>\n",
              "    <tr>\n",
              "      <th>quality</th>\n",
              "      <td>0.124052</td>\n",
              "      <td>-0.390558</td>\n",
              "      <td>0.226373</td>\n",
              "      <td>0.013732</td>\n",
              "      <td>-0.128907</td>\n",
              "      <td>-0.050656</td>\n",
              "      <td>-0.185100</td>\n",
              "      <td>-0.174919</td>\n",
              "      <td>-0.057731</td>\n",
              "      <td>0.251397</td>\n",
              "      <td>0.476166</td>\n",
              "      <td>1.000000</td>\n",
              "    </tr>\n",
              "  </tbody>\n",
              "</table>\n",
              "</div>"
            ],
            "text/plain": [
              "                      fixed acidity  volatile acidity  ...   alcohol   quality\n",
              "fixed acidity              1.000000         -0.256131  ... -0.061668  0.124052\n",
              "volatile acidity          -0.256131          1.000000  ... -0.202288 -0.390558\n",
              "citric acid                0.671703         -0.552496  ...  0.109903  0.226373\n",
              "residual sugar             0.114777          0.001918  ...  0.042075  0.013732\n",
              "chlorides                  0.093705          0.061298  ... -0.221141 -0.128907\n",
              "free sulfur dioxide       -0.153794         -0.010504  ... -0.069408 -0.050656\n",
              "total sulfur dioxide      -0.113181          0.076470  ... -0.205654 -0.185100\n",
              "density                    0.668047          0.022026  ... -0.496180 -0.174919\n",
              "pH                        -0.682978          0.234937  ...  0.205633 -0.057731\n",
              "sulphates                  0.183006         -0.260987  ...  0.093595  0.251397\n",
              "alcohol                   -0.061668         -0.202288  ...  1.000000  0.476166\n",
              "quality                    0.124052         -0.390558  ...  0.476166  1.000000\n",
              "\n",
              "[12 rows x 12 columns]"
            ]
          },
          "metadata": {
            "tags": []
          },
          "execution_count": 22
        }
      ]
    },
    {
      "cell_type": "code",
      "metadata": {
        "colab": {
          "base_uri": "https://localhost:8080/",
          "height": 421
        },
        "id": "QdblgoA6iRc0",
        "outputId": "536a5084-fb76-413a-cae1-3168be402152"
      },
      "source": [
        "df_branco.corr()"
      ],
      "execution_count": null,
      "outputs": [
        {
          "output_type": "execute_result",
          "data": {
            "text/html": [
              "<div>\n",
              "<style scoped>\n",
              "    .dataframe tbody tr th:only-of-type {\n",
              "        vertical-align: middle;\n",
              "    }\n",
              "\n",
              "    .dataframe tbody tr th {\n",
              "        vertical-align: top;\n",
              "    }\n",
              "\n",
              "    .dataframe thead th {\n",
              "        text-align: right;\n",
              "    }\n",
              "</style>\n",
              "<table border=\"1\" class=\"dataframe\">\n",
              "  <thead>\n",
              "    <tr style=\"text-align: right;\">\n",
              "      <th></th>\n",
              "      <th>fixed acidity</th>\n",
              "      <th>volatile acidity</th>\n",
              "      <th>citric acid</th>\n",
              "      <th>residual sugar</th>\n",
              "      <th>chlorides</th>\n",
              "      <th>free sulfur dioxide</th>\n",
              "      <th>total sulfur dioxide</th>\n",
              "      <th>density</th>\n",
              "      <th>pH</th>\n",
              "      <th>sulphates</th>\n",
              "      <th>alcohol</th>\n",
              "      <th>quality</th>\n",
              "    </tr>\n",
              "  </thead>\n",
              "  <tbody>\n",
              "    <tr>\n",
              "      <th>fixed acidity</th>\n",
              "      <td>1.000000</td>\n",
              "      <td>-0.022697</td>\n",
              "      <td>0.289181</td>\n",
              "      <td>0.089021</td>\n",
              "      <td>0.023086</td>\n",
              "      <td>-0.049396</td>\n",
              "      <td>0.091070</td>\n",
              "      <td>0.265331</td>\n",
              "      <td>-0.425858</td>\n",
              "      <td>-0.017143</td>\n",
              "      <td>-0.120881</td>\n",
              "      <td>-0.113663</td>\n",
              "    </tr>\n",
              "    <tr>\n",
              "      <th>volatile acidity</th>\n",
              "      <td>-0.022697</td>\n",
              "      <td>1.000000</td>\n",
              "      <td>-0.149472</td>\n",
              "      <td>0.064286</td>\n",
              "      <td>0.070512</td>\n",
              "      <td>-0.097012</td>\n",
              "      <td>0.089261</td>\n",
              "      <td>0.027114</td>\n",
              "      <td>-0.031915</td>\n",
              "      <td>-0.035728</td>\n",
              "      <td>0.067718</td>\n",
              "      <td>-0.194723</td>\n",
              "    </tr>\n",
              "    <tr>\n",
              "      <th>citric acid</th>\n",
              "      <td>0.289181</td>\n",
              "      <td>-0.149472</td>\n",
              "      <td>1.000000</td>\n",
              "      <td>0.094212</td>\n",
              "      <td>0.114364</td>\n",
              "      <td>0.094077</td>\n",
              "      <td>0.121131</td>\n",
              "      <td>0.149503</td>\n",
              "      <td>-0.163748</td>\n",
              "      <td>0.062331</td>\n",
              "      <td>-0.075729</td>\n",
              "      <td>-0.009209</td>\n",
              "    </tr>\n",
              "    <tr>\n",
              "      <th>residual sugar</th>\n",
              "      <td>0.089021</td>\n",
              "      <td>0.064286</td>\n",
              "      <td>0.094212</td>\n",
              "      <td>1.000000</td>\n",
              "      <td>0.088685</td>\n",
              "      <td>0.299098</td>\n",
              "      <td>0.401439</td>\n",
              "      <td>0.838966</td>\n",
              "      <td>-0.194133</td>\n",
              "      <td>-0.026664</td>\n",
              "      <td>-0.450631</td>\n",
              "      <td>-0.097577</td>\n",
              "    </tr>\n",
              "    <tr>\n",
              "      <th>chlorides</th>\n",
              "      <td>0.023086</td>\n",
              "      <td>0.070512</td>\n",
              "      <td>0.114364</td>\n",
              "      <td>0.088685</td>\n",
              "      <td>1.000000</td>\n",
              "      <td>0.101392</td>\n",
              "      <td>0.198910</td>\n",
              "      <td>0.257211</td>\n",
              "      <td>-0.090439</td>\n",
              "      <td>0.016763</td>\n",
              "      <td>-0.360189</td>\n",
              "      <td>-0.209934</td>\n",
              "    </tr>\n",
              "    <tr>\n",
              "      <th>free sulfur dioxide</th>\n",
              "      <td>-0.049396</td>\n",
              "      <td>-0.097012</td>\n",
              "      <td>0.094077</td>\n",
              "      <td>0.299098</td>\n",
              "      <td>0.101392</td>\n",
              "      <td>1.000000</td>\n",
              "      <td>0.615501</td>\n",
              "      <td>0.294210</td>\n",
              "      <td>-0.000618</td>\n",
              "      <td>0.059217</td>\n",
              "      <td>-0.250104</td>\n",
              "      <td>0.008158</td>\n",
              "    </tr>\n",
              "    <tr>\n",
              "      <th>total sulfur dioxide</th>\n",
              "      <td>0.091070</td>\n",
              "      <td>0.089261</td>\n",
              "      <td>0.121131</td>\n",
              "      <td>0.401439</td>\n",
              "      <td>0.198910</td>\n",
              "      <td>0.615501</td>\n",
              "      <td>1.000000</td>\n",
              "      <td>0.529881</td>\n",
              "      <td>0.002321</td>\n",
              "      <td>0.134562</td>\n",
              "      <td>-0.448892</td>\n",
              "      <td>-0.174737</td>\n",
              "    </tr>\n",
              "    <tr>\n",
              "      <th>density</th>\n",
              "      <td>0.265331</td>\n",
              "      <td>0.027114</td>\n",
              "      <td>0.149503</td>\n",
              "      <td>0.838966</td>\n",
              "      <td>0.257211</td>\n",
              "      <td>0.294210</td>\n",
              "      <td>0.529881</td>\n",
              "      <td>1.000000</td>\n",
              "      <td>-0.093591</td>\n",
              "      <td>0.074493</td>\n",
              "      <td>-0.780138</td>\n",
              "      <td>-0.307123</td>\n",
              "    </tr>\n",
              "    <tr>\n",
              "      <th>pH</th>\n",
              "      <td>-0.425858</td>\n",
              "      <td>-0.031915</td>\n",
              "      <td>-0.163748</td>\n",
              "      <td>-0.194133</td>\n",
              "      <td>-0.090439</td>\n",
              "      <td>-0.000618</td>\n",
              "      <td>0.002321</td>\n",
              "      <td>-0.093591</td>\n",
              "      <td>1.000000</td>\n",
              "      <td>0.155951</td>\n",
              "      <td>0.121432</td>\n",
              "      <td>0.099427</td>\n",
              "    </tr>\n",
              "    <tr>\n",
              "      <th>sulphates</th>\n",
              "      <td>-0.017143</td>\n",
              "      <td>-0.035728</td>\n",
              "      <td>0.062331</td>\n",
              "      <td>-0.026664</td>\n",
              "      <td>0.016763</td>\n",
              "      <td>0.059217</td>\n",
              "      <td>0.134562</td>\n",
              "      <td>0.074493</td>\n",
              "      <td>0.155951</td>\n",
              "      <td>1.000000</td>\n",
              "      <td>-0.017433</td>\n",
              "      <td>0.053678</td>\n",
              "    </tr>\n",
              "    <tr>\n",
              "      <th>alcohol</th>\n",
              "      <td>-0.120881</td>\n",
              "      <td>0.067718</td>\n",
              "      <td>-0.075729</td>\n",
              "      <td>-0.450631</td>\n",
              "      <td>-0.360189</td>\n",
              "      <td>-0.250104</td>\n",
              "      <td>-0.448892</td>\n",
              "      <td>-0.780138</td>\n",
              "      <td>0.121432</td>\n",
              "      <td>-0.017433</td>\n",
              "      <td>1.000000</td>\n",
              "      <td>0.435575</td>\n",
              "    </tr>\n",
              "    <tr>\n",
              "      <th>quality</th>\n",
              "      <td>-0.113663</td>\n",
              "      <td>-0.194723</td>\n",
              "      <td>-0.009209</td>\n",
              "      <td>-0.097577</td>\n",
              "      <td>-0.209934</td>\n",
              "      <td>0.008158</td>\n",
              "      <td>-0.174737</td>\n",
              "      <td>-0.307123</td>\n",
              "      <td>0.099427</td>\n",
              "      <td>0.053678</td>\n",
              "      <td>0.435575</td>\n",
              "      <td>1.000000</td>\n",
              "    </tr>\n",
              "  </tbody>\n",
              "</table>\n",
              "</div>"
            ],
            "text/plain": [
              "                      fixed acidity  volatile acidity  ...   alcohol   quality\n",
              "fixed acidity              1.000000         -0.022697  ... -0.120881 -0.113663\n",
              "volatile acidity          -0.022697          1.000000  ...  0.067718 -0.194723\n",
              "citric acid                0.289181         -0.149472  ... -0.075729 -0.009209\n",
              "residual sugar             0.089021          0.064286  ... -0.450631 -0.097577\n",
              "chlorides                  0.023086          0.070512  ... -0.360189 -0.209934\n",
              "free sulfur dioxide       -0.049396         -0.097012  ... -0.250104  0.008158\n",
              "total sulfur dioxide       0.091070          0.089261  ... -0.448892 -0.174737\n",
              "density                    0.265331          0.027114  ... -0.780138 -0.307123\n",
              "pH                        -0.425858         -0.031915  ...  0.121432  0.099427\n",
              "sulphates                 -0.017143         -0.035728  ... -0.017433  0.053678\n",
              "alcohol                   -0.120881          0.067718  ...  1.000000  0.435575\n",
              "quality                   -0.113663         -0.194723  ...  0.435575  1.000000\n",
              "\n",
              "[12 rows x 12 columns]"
            ]
          },
          "metadata": {
            "tags": []
          },
          "execution_count": 23
        }
      ]
    },
    {
      "cell_type": "code",
      "metadata": {
        "colab": {
          "base_uri": "https://localhost:8080/",
          "height": 1000
        },
        "id": "dLrLalOhvOfl",
        "outputId": "4a3d2971-bbe3-41ef-b749-ded02f93225c"
      },
      "source": [
        "plt.subplots(figsize=(15, 8))\n",
        "sns.heatmap(df_tinto.corr(), cmap='plasma', linecolor='gray', linewidths=1);\n",
        "\n",
        "plt.subplots(figsize=(15, 8))\n",
        "sns.heatmap(df_branco.corr(), cmap='plasma', linecolor='gray', linewidths=1);"
      ],
      "execution_count": null,
      "outputs": [
        {
          "output_type": "display_data",
          "data": {
            "image/png": "[encoded data removed]",
            "text/plain": [
              "<Figure size 1080x576 with 2 Axes>"
            ]
          },
          "metadata": {
            "tags": [],
            "needs_background": "light"
          }
        },
        {
          "output_type": "display_data",
          "data": {
            "image/png": "[encoded data removed]",
            "text/plain": [
              "<Figure size 1080x576 with 2 Axes>"
            ]
          },
          "metadata": {
            "tags": [],
            "needs_background": "light"
          }
        }
      ]
    },
    {
      "cell_type": "markdown",
      "metadata": {
        "id": "xqp9IDXUY9K4"
      },
      "source": [
        "Abaixo não executar por enquanto - São anotações apenas"
      ]
    },
    {
      "cell_type": "code",
      "metadata": {
        "id": "ObsiAE4xrRiw"
      },
      "source": [
        "sns.heatmap(df_red.corr(), annot=False)"
      ],
      "execution_count": null,
      "outputs": []
    },
    {
      "cell_type": "code",
      "metadata": {
        "id": "gZXDkfuHpidH"
      },
      "source": [
        "sns.stripplot(x='quality', y='pH', data=df_red)\n",
        "sns.stripplot(x='quality', y='pH', data=df_red, hue='alcohol', split=True)\n",
        "sns.swarmplot(x='quality', y='pH', data=df_red)"
      ],
      "execution_count": null,
      "outputs": []
    },
    {
      "cell_type": "code",
      "metadata": {
        "id": "VUOAiXJ7rwUS"
      },
      "source": [
        "#sns.lmplot(x='quality', y='alcohol', data=df_red, hue='pH' , col='density')\n",
        "sns.jointplot(x='quality', y='alcohol', data=df_red)"
      ],
      "execution_count": null,
      "outputs": []
    },
    {
      "cell_type": "code",
      "metadata": {
        "id": "UORiFWR-uShP"
      },
      "source": [
        "g = sns.FacetGrid(df_red, row='quality', col='alcohol') #Cria um grid vazio\n",
        "g.map(sns.countplot, 'pH') #preenche com o gráfico"
      ],
      "execution_count": null,
      "outputs": []
    },
    {
      "cell_type": "code",
      "metadata": {
        "id": "X6OcBmQsvW7h"
      },
      "source": [
        "sns.set_style('darkgrid')\n",
        "sns.countplot(x='quality', data=df_red)\n"
      ],
      "execution_count": null,
      "outputs": []
    },
    {
      "cell_type": "code",
      "metadata": {
        "id": "VQ_1TUGsvcGg"
      },
      "source": [
        "sns.set_style('whitegrid')\n",
        "sns.set_context('poster')\n",
        "sns.countplot(x='quality', data=df_red)"
      ],
      "execution_count": null,
      "outputs": []
    }
  ]
}
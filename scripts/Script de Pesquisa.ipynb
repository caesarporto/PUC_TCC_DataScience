{
  "nbformat": 4,
  "nbformat_minor": 0,
  "metadata": {
    "colab": {
      "name": "2-Coleta.ipynb",
      "provenance": [],
      "collapsed_sections": [],
      "authorship_tag": "ABX9TyMwgATr68pYE/FOXR5Nah8g",
      "include_colab_link": true
    },
    "kernelspec": {
      "name": "python3",
      "display_name": "Python 3"
    },
    "language_info": {
      "name": "python"
    }
  },
  "cells": [
    {
      "cell_type": "markdown",
      "metadata": {
        "id": "view-in-github",
        "colab_type": "text"
      },
      "source": [
        "<a href=\"https://colab.research.google.com/github/caesarporto/PUC_TCC_DataScience/blob/main/scripts/Script%20de%20Pesquisa.ipynb\" target=\"_parent\"><img src=\"https://colab.research.google.com/assets/colab-badge.svg\" alt=\"Open In Colab\"/></a>"
      ]
    },
    {
      "cell_type": "code",
      "metadata": {
        "id": "0FYKycUbNdrT"
      },
      "source": [
        "#! pip install https://github.com/pandas-profiling/pandas-profiling/archive/master.zip"
      ],
      "execution_count": null,
      "outputs": []
    },
    {
      "cell_type": "code",
      "metadata": {
        "id": "a5JCHlrbppKy"
      },
      "source": [
        "#Passo 3.1\n",
        "import pandas as pd\n",
        "df_tinto = pd.read_csv('https://raw.githubusercontent.com/caesarporto/PUC_TCC_DataScience/main/datasource/winequality_red.csv', sep=',')\n",
        "df_branco = pd.read_csv('https://raw.githubusercontent.com/caesarporto/PUC_TCC_DataScience/main/datasource/winequality_white.csv', sep=',')"
      ],
      "execution_count": null,
      "outputs": []
    },
    {
      "cell_type": "code",
      "metadata": {
        "id": "2jM0kfDBJMVk"
      },
      "source": [
        "#Passo 3.2\n",
        "df_tinto.shape"
      ],
      "execution_count": null,
      "outputs": []
    },
    {
      "cell_type": "code",
      "metadata": {
        "id": "V9sphPfyJP8b"
      },
      "source": [
        "df_branco.shape"
      ],
      "execution_count": null,
      "outputs": []
    },
    {
      "cell_type": "code",
      "metadata": {
        "id": "omfE-AdGltoI"
      },
      "source": [
        "#Passo 3.3 (a)\n",
        "df_tinto.head()"
      ],
      "execution_count": null,
      "outputs": []
    },
    {
      "cell_type": "code",
      "metadata": {
        "id": "UNeY8mrpctQ3"
      },
      "source": [
        "#Passo 3.3 (b)\n",
        "df_branco.head()"
      ],
      "execution_count": null,
      "outputs": []
    },
    {
      "cell_type": "code",
      "metadata": {
        "id": "PXxJ58GKi6TY"
      },
      "source": [
        "#Passo 3.3 (c)\n",
        "df_tinto.sample(10)"
      ],
      "execution_count": null,
      "outputs": []
    },
    {
      "cell_type": "code",
      "metadata": {
        "id": "zyTofsB1c0KT"
      },
      "source": [
        "#Passo 3.3 (d)\n",
        "df_branco.sample(10)"
      ],
      "execution_count": null,
      "outputs": []
    },
    {
      "cell_type": "code",
      "metadata": {
        "id": "9lG_bjtTifIq"
      },
      "source": [
        "#Passo 3.4 (a)\n",
        "df_tinto.count()"
      ],
      "execution_count": null,
      "outputs": []
    },
    {
      "cell_type": "code",
      "metadata": {
        "id": "wg08eUK4lkOZ"
      },
      "source": [
        "#Passo 3.4 (b)\n",
        "df_branco.count()"
      ],
      "execution_count": null,
      "outputs": []
    },
    {
      "cell_type": "code",
      "metadata": {
        "id": "aRphz8LV99Y6"
      },
      "source": [
        "#Passo 3.4 (c)\n",
        "df_tinto.drop_duplicates(inplace=True)\n",
        "df_branco.drop_duplicates(inplace=True)"
      ],
      "execution_count": null,
      "outputs": []
    },
    {
      "cell_type": "code",
      "metadata": {
        "id": "iAg98mUKlkgS"
      },
      "source": [
        "#Passo 3.4 (d)\n",
        "df_tinto.count()"
      ],
      "execution_count": null,
      "outputs": []
    },
    {
      "cell_type": "code",
      "metadata": {
        "id": "IgR4S1QxcmIn"
      },
      "source": [
        "#Passo 3.5 (e)\n",
        "df_branco.count()"
      ],
      "execution_count": null,
      "outputs": []
    },
    {
      "cell_type": "code",
      "metadata": {
        "id": "BhsV_rrWR6se"
      },
      "source": [
        "#Passo 3.5 (a)\n",
        "import missingno as msno\n",
        "msno.bar(df_tinto)"
      ],
      "execution_count": null,
      "outputs": []
    },
    {
      "cell_type": "code",
      "metadata": {
        "id": "gaNzMzZLoARA"
      },
      "source": [
        "#Passo 3.5 (b)\n",
        "msno.bar(df_branco)"
      ],
      "execution_count": null,
      "outputs": []
    },
    {
      "cell_type": "markdown",
      "metadata": {
        "id": "09m5BnnmS547"
      },
      "source": [
        "Para os passos 4"
      ]
    },
    {
      "cell_type": "code",
      "metadata": {
        "id": "7ZgArgq7JS-e"
      },
      "source": [
        "from pandas_profiling import ProfileReport\n",
        "profile_tinto = ProfileReport(df_tinto, title=\"Análise do dataset de vinhos tintos\", html= {'style': {'full_width': True}})\n",
        "profile_tinto.to_notebook_iframe()"
      ],
      "execution_count": null,
      "outputs": []
    },
    {
      "cell_type": "code",
      "metadata": {
        "id": "ECM9PKXSWMxY"
      },
      "source": [
        "profile_branco = ProfileReport(df_tinto, title=\"Análise do dataset de vinhos brancos\", html= {'style': {'full_width': True}})\n",
        "profile_branco.to_notebook_iframe()"
      ],
      "execution_count": null,
      "outputs": []
    },
    {
      "cell_type": "code",
      "metadata": {
        "id": "TrEOB8zlXIm_"
      },
      "source": [
        ""
      ],
      "execution_count": null,
      "outputs": []
    },
    {
      "cell_type": "code",
      "metadata": {
        "id": "R6P3h4aXikZo"
      },
      "source": [
        "df_tinto.describe()"
      ],
      "execution_count": null,
      "outputs": []
    },
    {
      "cell_type": "code",
      "metadata": {
        "id": "PPNBFsTic7ev"
      },
      "source": [
        "df_branco.describe()"
      ],
      "execution_count": null,
      "outputs": []
    },
    {
      "cell_type": "code",
      "metadata": {
        "id": "dbnkMOk1rIfR"
      },
      "source": [
        "df_tinto.corr()"
      ],
      "execution_count": null,
      "outputs": []
    },
    {
      "cell_type": "code",
      "metadata": {
        "id": "QdblgoA6iRc0"
      },
      "source": [
        "df_branco.corr()"
      ],
      "execution_count": null,
      "outputs": []
    },
    {
      "cell_type": "code",
      "metadata": {
        "id": "dLrLalOhvOfl"
      },
      "source": [
        "plt.subplots(figsize=(15, 8))\n",
        "sns.heatmap(df_tinto.corr(), cmap='plasma', linecolor='gray', linewidths=1, annot=False);\n",
        "\n",
        "plt.subplots(figsize=(15, 8))\n",
        "sns.heatmap(df_branco.corr(), cmap='plasma', linecolor='gray', linewidths=1, annot=False);"
      ],
      "execution_count": null,
      "outputs": []
    },
    {
      "cell_type": "markdown",
      "metadata": {
        "id": "8rPYZu6JXNuY"
      },
      "source": [
        "Avaliar os casos, para analises aprofundadas"
      ]
    },
    {
      "cell_type": "code",
      "metadata": {
        "id": "YqNOhqFMkA-w"
      },
      "source": [
        "import matplotlib.pyplot as plt\n",
        "import seaborn as sns\n",
        "% matplotlib inline\n"
      ],
      "execution_count": null,
      "outputs": []
    },
    {
      "cell_type": "code",
      "metadata": {
        "id": "de0IFqJCoBjd"
      },
      "source": [
        "sns.displot(df_tinto['fixed acidity'], kde=False)\n",
        "sns.displot(df_tinto['volatile acidity'], kde=False)\n",
        "sns.displot(df_tinto['citric acid'], kde=False)\n",
        "sns.displot(df_tinto['residual sugar'], kde=False)\n",
        "sns.displot(df_tinto['chlorides'], kde=False)\n",
        "sns.displot(df_tinto['free sulfur dioxide'], kde=False)\n",
        "sns.displot(df_tinto['total sulfur dioxide'], kde=False)\n",
        "sns.displot(df_tinto['density'], kde=False)\n",
        "sns.displot(df_tinto['pH'], kde=False)\n",
        "sns.displot(df_tinto['sulphates'], kde=False)\n",
        "sns.displot(df_tinto['alcohol'], kde=False)\n",
        "sns.displot(df_tinto['quality'], kde=False)\n"
      ],
      "execution_count": null,
      "outputs": []
    },
    {
      "cell_type": "code",
      "metadata": {
        "id": "ogVHC3nPbdbo"
      },
      "source": [
        "sns.displot(df_branco['fixed acidity'], kde=False)\n",
        "sns.displot(df_branco['volatile acidity'], kde=False)\n",
        "sns.displot(df_branco['citric acid'], kde=False)\n",
        "sns.displot(df_branco['residual sugar'], kde=False)\n",
        "sns.displot(df_branco['chlorides'], kde=False)\n",
        "sns.displot(df_branco['free sulfur dioxide'], kde=False)\n",
        "sns.displot(df_branco['total sulfur dioxide'], kde=False)\n",
        "sns.displot(df_branco['density'], kde=False)\n",
        "sns.displot(df_branco['pH'], kde=False)\n",
        "sns.displot(df_branco['sulphates'], kde=False)\n",
        "sns.displot(df_branco['alcohol'], kde=False)\n",
        "sns.displot(df_branco['quality'], kde=False)\n"
      ],
      "execution_count": null,
      "outputs": []
    },
    {
      "cell_type": "code",
      "metadata": {
        "id": "LsyTgoDhoZ8l"
      },
      "source": [
        "#talvez esse nao\n",
        "sns.countplot(x='fixed acidity', data = df_tinto)\n",
        "#sns.countplot(x='volatile acidity', data = df_tinto)\n",
        "#sns.countplot(x='citric acid', data = df_tinto)\n",
        "#sns.countplot(x='residual sugar', data = df_tinto)\n",
        "#sns.countplot(x='chlorides', data = df_tinto)\n",
        "#sns.countplot(x='free sulfur dioxide', data = df_tinto)\n",
        "#sns.countplot(x='total sulfur dioxide', data = df_tinto)\n",
        "#sns.countplot(x='pH', data = df_tinto)\n",
        "#sns.countplot(x='sulphates', data = df_tinto)\n",
        "#sns.countplot(x='alcohol', data = df_tinto)\n",
        "#sns.countplot(x='quality', data = df_tinto)"
      ],
      "execution_count": null,
      "outputs": []
    },
    {
      "cell_type": "code",
      "metadata": {
        "id": "DZXJ3j81hwaP"
      },
      "source": [
        "#talvez esse nao\n",
        "sns.countplot(x='fixed acidity', data = df_branco)\n",
        "sns.countplot(x='volatile acidity', data = df_branco)\n",
        "sns.countplot(x='citric acid', data = df_branco)\n",
        "sns.countplot(x='residual sugar', data = df_branco)\n",
        "sns.countplot(x='chlorides', data = df_branco)\n",
        "sns.countplot(x='free sulfur dioxide', data = df_branco)\n",
        "sns.countplot(x='total sulfur dioxide', data = df_branco)\n",
        "sns.countplot(x='pH', data = df_branco)\n",
        "sns.countplot(x='sulphates', data = df_branco)\n",
        "sns.countplot(x='alcohol', data = df_branco)\n",
        "sns.countplot(x='quality', data = df_branco)"
      ],
      "execution_count": null,
      "outputs": []
    },
    {
      "cell_type": "code",
      "metadata": {
        "id": "SvCY3z5TSNCD"
      },
      "source": [
        "#profile_tinto.to_file(output_file=\"teste.html\")"
      ],
      "execution_count": null,
      "outputs": []
    },
    {
      "cell_type": "markdown",
      "metadata": {
        "id": "xqp9IDXUY9K4"
      },
      "source": [
        "Abaixo não executar por enquanto - São anotações apenas"
      ]
    },
    {
      "cell_type": "code",
      "metadata": {
        "id": "6Hjc3mSAkxd6"
      },
      "source": [
        "sns.set(font_scale=1.4)\n",
        "df_tinto['fixed acidity'].value_counts().plot(kind='barh', figsize=(7,6), rot=0)\n",
        "plt.xlabel('Fixed Acidity')\n",
        "plt.ylabel('Quantidade')\n",
        "plt.title('Distribuição de Fixed Acidity', y=1.02)"
      ],
      "execution_count": null,
      "outputs": []
    },
    {
      "cell_type": "code",
      "metadata": {
        "id": "GID443msotN-"
      },
      "source": [
        "sns.barplot(x='quality', y='alcohol', data = df_tinto)"
      ],
      "execution_count": null,
      "outputs": []
    },
    {
      "cell_type": "code",
      "metadata": {
        "id": "aYtSOdV9pGeC"
      },
      "source": [
        "sns.boxplot(x='quality', y='alcohol', data=df_tinto)\n",
        "sns.boxplot(x='quality', y='alcohol', data=df_tinto, hue='pH')\n",
        "sns.boxplot(x='quality', y='alcohol', data=df_tinto)"
      ],
      "execution_count": null,
      "outputs": []
    },
    {
      "cell_type": "code",
      "metadata": {
        "id": "gZXDkfuHpidH"
      },
      "source": [
        "sns.stripplot(x='quality', y='pH', data=df_tinto)\n",
        "sns.stripplot(x='quality', y='pH', data=df_tinto, hue='alcohol', split=True)\n",
        "sns.swarmplot(x='quality', y='pH', data=df_tinto)"
      ],
      "execution_count": null,
      "outputs": []
    },
    {
      "cell_type": "code",
      "metadata": {
        "id": "VUOAiXJ7rwUS"
      },
      "source": [
        "#sns.lmplot(x='quality', y='alcohol', data=df_red, hue='pH' , col='density')\n",
        "sns.jointplot(x='quality', y='alcohol', data=df_tinto)"
      ],
      "execution_count": null,
      "outputs": []
    },
    {
      "cell_type": "code",
      "metadata": {
        "id": "UORiFWR-uShP"
      },
      "source": [
        "g = sns.FacetGrid(df_tinto, row='quality', col='alcohol') #Cria um grid vazio\n",
        "g.map(sns.countplot, 'pH') #preenche com o gráfico"
      ],
      "execution_count": null,
      "outputs": []
    },
    {
      "cell_type": "code",
      "metadata": {
        "id": "X6OcBmQsvW7h"
      },
      "source": [
        "sns.set_style('darkgrid')\n",
        "sns.countplot(x='quality', data=df_tinto)\n"
      ],
      "execution_count": null,
      "outputs": []
    },
    {
      "cell_type": "code",
      "metadata": {
        "id": "VQ_1TUGsvcGg"
      },
      "source": [
        "sns.set_style('whitegrid')\n",
        "sns.set_context('poster')\n",
        "sns.countplot(x='quality', data=df_red)"
      ],
      "execution_count": null,
      "outputs": []
    }
  ]
}
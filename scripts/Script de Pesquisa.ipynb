{
  "nbformat": 4,
  "nbformat_minor": 0,
  "metadata": {
    "colab": {
      "name": "2-Coleta.ipynb",
      "provenance": [],
      "collapsed_sections": [],
      "authorship_tag": "ABX9TyNG0AxySkT5Yu25QtXqjhvD",
      "include_colab_link": true
    },
    "kernelspec": {
      "name": "python3",
      "display_name": "Python 3"
    },
    "language_info": {
      "name": "python"
    }
  },
  "cells": [
    {
      "cell_type": "markdown",
      "metadata": {
        "id": "view-in-github",
        "colab_type": "text"
      },
      "source": [
        "<a href=\"https://colab.research.google.com/github/caesarporto/PUC_TCC_DataScience/blob/main/scripts/Script%20de%20Pesquisa.ipynb\" target=\"_parent\"><img src=\"https://colab.research.google.com/assets/colab-badge.svg\" alt=\"Open In Colab\"/></a>"
      ]
    },
    {
      "cell_type": "code",
      "metadata": {
        "id": "a5JCHlrbppKy"
      },
      "source": [
        "#Passo 3.1\n",
        "import pandas as pd\n",
        "df_tinto = pd.read_csv('https://raw.githubusercontent.com/caesarporto/PUC_TCC_DataScience/main/datasource/winequality_red.csv', sep=',')\n",
        "df_branco = pd.read_csv('https://raw.githubusercontent.com/caesarporto/PUC_TCC_DataScience/main/datasource/winequality_white.csv', sep=',')"
      ],
      "execution_count": 71,
      "outputs": []
    },
    {
      "cell_type": "code",
      "metadata": {
        "id": "2jM0kfDBJMVk",
        "colab": {
          "base_uri": "https://localhost:8080/"
        },
        "outputId": "39d7dce1-f245-427b-f12b-864d489ce735"
      },
      "source": [
        "#Passo 3.2 (a)\n",
        "df_tinto.shape"
      ],
      "execution_count": 70,
      "outputs": [
        {
          "output_type": "execute_result",
          "data": {
            "text/plain": [
              "(1599, 12)"
            ]
          },
          "metadata": {
            "tags": []
          },
          "execution_count": 70
        }
      ]
    },
    {
      "cell_type": "code",
      "metadata": {
        "id": "V9sphPfyJP8b"
      },
      "source": [
        "#Passo 3.2 (b)\n",
        "df_branco.shape"
      ],
      "execution_count": null,
      "outputs": []
    },
    {
      "cell_type": "code",
      "metadata": {
        "id": "omfE-AdGltoI"
      },
      "source": [
        "#Passo 3.3 (a)\n",
        "df_tinto.head()"
      ],
      "execution_count": null,
      "outputs": []
    },
    {
      "cell_type": "code",
      "metadata": {
        "id": "UNeY8mrpctQ3"
      },
      "source": [
        "#Passo 3.3 (b)\n",
        "df_branco.head()"
      ],
      "execution_count": null,
      "outputs": []
    },
    {
      "cell_type": "code",
      "metadata": {
        "id": "PXxJ58GKi6TY"
      },
      "source": [
        "#Passo 3.3 (c)\n",
        "df_tinto.sample(10)"
      ],
      "execution_count": null,
      "outputs": []
    },
    {
      "cell_type": "code",
      "metadata": {
        "id": "zyTofsB1c0KT"
      },
      "source": [
        "#Passo 3.3 (d)\n",
        "df_branco.sample(10)"
      ],
      "execution_count": null,
      "outputs": []
    },
    {
      "cell_type": "code",
      "metadata": {
        "id": "9lG_bjtTifIq"
      },
      "source": [
        "#Passo 3.4 (a)\n",
        "df_tinto.count()"
      ],
      "execution_count": null,
      "outputs": []
    },
    {
      "cell_type": "code",
      "metadata": {
        "id": "wg08eUK4lkOZ"
      },
      "source": [
        "#Passo 3.4 (b)\n",
        "df_branco.count()"
      ],
      "execution_count": null,
      "outputs": []
    },
    {
      "cell_type": "code",
      "metadata": {
        "id": "aRphz8LV99Y6"
      },
      "source": [
        "#Passo 3.4 (c)\n",
        "df_tinto.drop_duplicates(inplace=True)\n",
        "df_branco.drop_duplicates(inplace=True)"
      ],
      "execution_count": 10,
      "outputs": []
    },
    {
      "cell_type": "code",
      "metadata": {
        "id": "iAg98mUKlkgS"
      },
      "source": [
        "#Passo 3.4 (d)\n",
        "df_tinto.count()"
      ],
      "execution_count": null,
      "outputs": []
    },
    {
      "cell_type": "code",
      "metadata": {
        "id": "IgR4S1QxcmIn"
      },
      "source": [
        "#Passo 3.5 (e)\n",
        "df_branco.count()"
      ],
      "execution_count": null,
      "outputs": []
    },
    {
      "cell_type": "code",
      "metadata": {
        "id": "BhsV_rrWR6se"
      },
      "source": [
        "#Passo 3.5 (a)\n",
        "import missingno as msno\n",
        "msno.bar(df_tinto)"
      ],
      "execution_count": null,
      "outputs": []
    },
    {
      "cell_type": "code",
      "metadata": {
        "id": "gaNzMzZLoARA"
      },
      "source": [
        "#Passo 3.5 (b)\n",
        "msno.bar(df_branco)"
      ],
      "execution_count": null,
      "outputs": []
    },
    {
      "cell_type": "code",
      "metadata": {
        "id": "R6P3h4aXikZo"
      },
      "source": [
        "#Passo 4.1 (a)\n",
        "df_tinto.describe()"
      ],
      "execution_count": null,
      "outputs": []
    },
    {
      "cell_type": "code",
      "metadata": {
        "id": "PPNBFsTic7ev"
      },
      "source": [
        "#Passo 4.1 (b)\n",
        "df_branco.describe()"
      ],
      "execution_count": null,
      "outputs": []
    },
    {
      "cell_type": "code",
      "metadata": {
        "id": "YqNOhqFMkA-w"
      },
      "source": [
        "#Passo 4.1 (c)\n",
        "import matplotlib.pyplot as plt\n",
        "import seaborn as sns\n",
        "% matplotlib inline"
      ],
      "execution_count": 17,
      "outputs": []
    },
    {
      "cell_type": "code",
      "metadata": {
        "id": "de0IFqJCoBjd"
      },
      "source": [
        "#Passo 4.1 (d)\n",
        "sns.displot(df_tinto['fixed acidity'], kde=False)\n",
        "sns.displot(df_tinto['volatile acidity'], kde=False)\n",
        "sns.displot(df_tinto['citric acid'], kde=False)\n",
        "sns.displot(df_tinto['residual sugar'], kde=False)\n",
        "sns.displot(df_tinto['chlorides'], kde=False)\n",
        "sns.displot(df_tinto['free sulfur dioxide'], kde=False)\n",
        "sns.displot(df_tinto['total sulfur dioxide'], kde=False)\n",
        "sns.displot(df_tinto['density'], kde=False)\n",
        "sns.displot(df_tinto['pH'], kde=False)\n",
        "sns.displot(df_tinto['sulphates'], kde=False)\n",
        "sns.displot(df_tinto['alcohol'], kde=False)\n",
        "sns.displot(df_tinto['quality'], kde=False)"
      ],
      "execution_count": null,
      "outputs": []
    },
    {
      "cell_type": "code",
      "metadata": {
        "id": "ogVHC3nPbdbo"
      },
      "source": [
        "#Passo 4.1 (e)\n",
        "sns.displot(df_branco['fixed acidity'], kde=False)\n",
        "sns.displot(df_branco['volatile acidity'], kde=False)\n",
        "sns.displot(df_branco['citric acid'], kde=False)\n",
        "sns.displot(df_branco['residual sugar'], kde=False)\n",
        "sns.displot(df_branco['chlorides'], kde=False)\n",
        "sns.displot(df_branco['free sulfur dioxide'], kde=False)\n",
        "sns.displot(df_branco['total sulfur dioxide'], kde=False)\n",
        "sns.displot(df_branco['density'], kde=False)\n",
        "sns.displot(df_branco['pH'], kde=False)\n",
        "sns.displot(df_branco['sulphates'], kde=False)\n",
        "sns.displot(df_branco['alcohol'], kde=False)\n",
        "sns.displot(df_branco['quality'], kde=False)"
      ],
      "execution_count": null,
      "outputs": []
    },
    {
      "cell_type": "code",
      "metadata": {
        "id": "dbnkMOk1rIfR"
      },
      "source": [
        "#Passo 4.2 (a)\n",
        "df_tinto.corr()"
      ],
      "execution_count": null,
      "outputs": []
    },
    {
      "cell_type": "code",
      "metadata": {
        "id": "QdblgoA6iRc0"
      },
      "source": [
        "#Passo 4.2 (b)\n",
        "df_branco.corr()"
      ],
      "execution_count": null,
      "outputs": []
    },
    {
      "cell_type": "code",
      "metadata": {
        "id": "HKJDk5tFeaSk"
      },
      "source": [
        "#Passo 4.2 (c)\n",
        "plt.subplots(figsize=(15, 8))\n",
        "sns.heatmap(df_tinto.corr(), cmap='YlGnBu', linecolor='gray', linewidths=1, annot=False);"
      ],
      "execution_count": null,
      "outputs": []
    },
    {
      "cell_type": "code",
      "metadata": {
        "id": "dLrLalOhvOfl"
      },
      "source": [
        "#Passo 4.2 (d)\n",
        "plt.subplots(figsize=(15, 8))\n",
        "sns.heatmap(df_branco.corr(), cmap='YlGnBu', linecolor='gray', linewidths=1, annot=False);"
      ],
      "execution_count": null,
      "outputs": []
    },
    {
      "cell_type": "code",
      "metadata": {
        "id": "0FYKycUbNdrT"
      },
      "source": [
        "#Passo 4.4 (a)\n",
        "! pip install https://github.com/pandas-profiling/pandas-profiling/archive/master.zip"
      ],
      "execution_count": null,
      "outputs": []
    },
    {
      "cell_type": "code",
      "metadata": {
        "id": "7ZgArgq7JS-e"
      },
      "source": [
        "#Passo 4.4 (b)\n",
        "from pandas_profiling import ProfileReport\n",
        "profile_tinto = ProfileReport(df_tinto, title=\"Análise do dataset de vinhos tintos\", html= {'style': {'full_width': True}})\n",
        "profile_tinto.to_notebook_iframe()"
      ],
      "execution_count": null,
      "outputs": []
    },
    {
      "cell_type": "code",
      "metadata": {
        "id": "ECM9PKXSWMxY"
      },
      "source": [
        "#Passo 4.4 (c)\n",
        "profile_branco = ProfileReport(df_tinto, title=\"Análise do dataset de vinhos brancos\", html= {'style': {'full_width': True}})\n",
        "profile_branco.to_notebook_iframe()"
      ],
      "execution_count": null,
      "outputs": []
    },
    {
      "cell_type": "code",
      "metadata": {
        "id": "tWD4lVrM2MAo"
      },
      "source": [
        "#Passo 5.1 (a)\n",
        "import pandas as pd\n",
        "from sklearn.tree import DecisionTreeClassifier\n",
        "df_tinto.head()\n",
        "x = df_tinto.drop('quality', axis=1)\n",
        "y = df_tinto['quality']\n",
        "modelo = DecisionTreeClassifier(max_depth=3)\n",
        "modelo.fit(x,y)\n",
        "modelo.score(x,y)"
      ],
      "execution_count": null,
      "outputs": []
    },
    {
      "cell_type": "code",
      "metadata": {
        "id": "zBl09Jrt2OO5"
      },
      "source": [
        "#Passo 5.1 (b)\n",
        "import pandas as pd\n",
        "from sklearn.tree import DecisionTreeClassifier\n",
        "df_branco.head()\n",
        "x = df_branco.drop('quality', axis=1)\n",
        "y = df_branco['quality']\n",
        "modelo = DecisionTreeClassifier(max_depth=3)\n",
        "modelo.fit(x,y)\n",
        "modelo.score(x,y)"
      ],
      "execution_count": null,
      "outputs": []
    },
    {
      "cell_type": "code",
      "metadata": {
        "id": "tIR7STTgKMY8"
      },
      "source": [
        "#Passo 5.1 (c)\n",
        "import pandas as pd\n",
        "from sklearn.tree import DecisionTreeClassifier\n",
        "df_tinto.head()\n",
        "x = df_tinto.drop('quality', axis=1)\n",
        "y = df_tinto['quality']\n",
        "modelo = DecisionTreeClassifier(max_depth=10)\n",
        "modelo.fit(x,y)\n",
        "modelo.score(x,y)"
      ],
      "execution_count": null,
      "outputs": []
    },
    {
      "cell_type": "code",
      "metadata": {
        "id": "iQt2sT_yIyJn"
      },
      "source": [
        "#Passo 5.1 (d)\n",
        "import pandas as pd\n",
        "from sklearn.tree import DecisionTreeClassifier\n",
        "df_branco.head()\n",
        "x = df_branco.drop('quality', axis=1)\n",
        "y = df_branco['quality']\n",
        "modelo = DecisionTreeClassifier(max_depth=10)\n",
        "modelo.fit(x,y)\n",
        "modelo.score(x,y)"
      ],
      "execution_count": null,
      "outputs": []
    },
    {
      "cell_type": "code",
      "metadata": {
        "id": "uLYCODIdNxqS"
      },
      "source": [
        "#Passo 5.1 (e)\n",
        "import numpy as np\n",
        "from matplotlib import pyplot as plt\n",
        "\n",
        "from sklearn.model_selection import train_test_split\n",
        "from sklearn.tree import DecisionTreeClassifier\n",
        "from sklearn import tree\n",
        "\n",
        "X = df_tinto.drop('quality', axis=1)\n",
        "y = df_tinto['quality']\n",
        "X_train, X_test, y_train, y_test = train_test_split(X, y, random_state=0)\n",
        "\n",
        "clf = DecisionTreeClassifier(max_depth=10)\n",
        "clf.fit(X_train, y_train)\n",
        "\n",
        "n_nodes = clf.tree_.node_count\n",
        "children_left = clf.tree_.children_left\n",
        "children_right = clf.tree_.children_right\n",
        "feature = clf.tree_.feature\n",
        "threshold = clf.tree_.threshold\n",
        "\n",
        "node_depth = np.zeros(shape=n_nodes, dtype=np.int64)\n",
        "is_leaves = np.zeros(shape=n_nodes, dtype=bool)\n",
        "stack = [(0, 0)]  \n",
        "while len(stack) > 0:\n",
        "    node_id, depth = stack.pop()\n",
        "    node_depth[node_id] = depth\n",
        "\n",
        "    is_split_node = children_left[node_id] != children_right[node_id]\n",
        "\n",
        "    if is_split_node:\n",
        "        stack.append((children_left[node_id], depth + 1))\n",
        "        stack.append((children_right[node_id], depth + 1))\n",
        "    else:\n",
        "        is_leaves[node_id] = True\n",
        "\n",
        "print(\"The binary tree structure has {n} nodes and has \"\n",
        "      \"the following tree structure:\\n\".format(n=n_nodes))\n",
        "for i in range(n_nodes):\n",
        "    if is_leaves[i]:\n",
        "        print(\"{space}node={node} is a leaf node.\".format(\n",
        "            space=node_depth[i] * \"\\t\", node=i))\n",
        "    else:\n",
        "        print(\"{space}node={node} is a split node: \"\n",
        "              \"go to node {left} if X[:, {feature}] <= {threshold} \"\n",
        "              \"else to node {right}.\".format(\n",
        "                  space=node_depth[i] * \"\\t\",\n",
        "                  node=i,\n",
        "                  left=children_left[i],\n",
        "                  feature=feature[i],\n",
        "                  threshold=threshold[i],\n",
        "                  right=children_right[i]))\n",
        "\n",
        "tree.plot_tree(clf)\n",
        "plt.show()\n",
        "\n",
        "node_indicator = clf.decision_path(X_test)\n",
        "leaf_id = clf.apply(X_test)\n",
        "\n",
        "sample_id = 0\n",
        "node_index = node_indicator.indices[node_indicator.indptr[sample_id]:\n",
        "                                    node_indicator.indptr[sample_id + 1]]\n",
        "\n",
        "sample_ids = [0, 1]\n",
        "common_nodes = (node_indicator.toarray()[sample_ids].sum(axis=0) ==\n",
        "                len(sample_ids))\n",
        "common_node_id = np.arange(n_nodes)[common_nodes]\n",
        "\n",
        "print(\"\\nThe following samples {samples} share the node(s) {nodes} in the \"\n",
        "      \"tree.\".format(samples=sample_ids, nodes=common_node_id))\n",
        "print(\"This is {prop}% of all nodes.\".format(\n",
        "    prop=100 * len(common_node_id) / n_nodes))"
      ],
      "execution_count": null,
      "outputs": []
    },
    {
      "cell_type": "code",
      "metadata": {
        "id": "ZwWBXu1S5xK0"
      },
      "source": [
        "#Passo 5.1 (f)\n",
        "import numpy as np\n",
        "from matplotlib import pyplot as plt\n",
        "\n",
        "from sklearn.model_selection import train_test_split\n",
        "from sklearn.tree import DecisionTreeClassifier\n",
        "from sklearn import tree\n",
        "\n",
        "X = df_branco.drop('quality', axis=1)\n",
        "y = df_branco['quality']\n",
        "X_train, X_test, y_train, y_test = train_test_split(X, y, random_state=0)\n",
        "\n",
        "clf = DecisionTreeClassifier(max_depth=10)\n",
        "clf.fit(X_train, y_train)\n",
        "\n",
        "n_nodes = clf.tree_.node_count\n",
        "children_left = clf.tree_.children_left\n",
        "children_right = clf.tree_.children_right\n",
        "feature = clf.tree_.feature\n",
        "threshold = clf.tree_.threshold\n",
        "\n",
        "node_depth = np.zeros(shape=n_nodes, dtype=np.int64)\n",
        "is_leaves = np.zeros(shape=n_nodes, dtype=bool)\n",
        "stack = [(0, 0)]  \n",
        "while len(stack) > 0:\n",
        "    node_id, depth = stack.pop()\n",
        "    node_depth[node_id] = depth\n",
        "\n",
        "    is_split_node = children_left[node_id] != children_right[node_id]\n",
        "\n",
        "    if is_split_node:\n",
        "        stack.append((children_left[node_id], depth + 1))\n",
        "        stack.append((children_right[node_id], depth + 1))\n",
        "    else:\n",
        "        is_leaves[node_id] = True\n",
        "\n",
        "print(\"The binary tree structure has {n} nodes and has \"\n",
        "      \"the following tree structure:\\n\".format(n=n_nodes))\n",
        "for i in range(n_nodes):\n",
        "    if is_leaves[i]:\n",
        "        print(\"{space}node={node} is a leaf node.\".format(\n",
        "            space=node_depth[i] * \"\\t\", node=i))\n",
        "    else:\n",
        "        print(\"{space}node={node} is a split node: \"\n",
        "              \"go to node {left} if X[:, {feature}] <= {threshold} \"\n",
        "              \"else to node {right}.\".format(\n",
        "                  space=node_depth[i] * \"\\t\",\n",
        "                  node=i,\n",
        "                  left=children_left[i],\n",
        "                  feature=feature[i],\n",
        "                  threshold=threshold[i],\n",
        "                  right=children_right[i]))\n",
        "\n",
        "tree.plot_tree(clf)\n",
        "plt.show()\n",
        "\n",
        "node_indicator = clf.decision_path(X_test)\n",
        "leaf_id = clf.apply(X_test)\n",
        "\n",
        "sample_id = 0\n",
        "node_index = node_indicator.indices[node_indicator.indptr[sample_id]:\n",
        "                                    node_indicator.indptr[sample_id + 1]]\n",
        "\n",
        "sample_ids = [0, 1]\n",
        "common_nodes = (node_indicator.toarray()[sample_ids].sum(axis=0) ==\n",
        "                len(sample_ids))\n",
        "common_node_id = np.arange(n_nodes)[common_nodes]\n",
        "\n",
        "print(\"\\nThe following samples {samples} share the node(s) {nodes} in the \"\n",
        "      \"tree.\".format(samples=sample_ids, nodes=common_node_id))\n",
        "print(\"This is {prop}% of all nodes.\".format(\n",
        "    prop=100 * len(common_node_id) / n_nodes))"
      ],
      "execution_count": null,
      "outputs": []
    },
    {
      "cell_type": "code",
      "metadata": {
        "id": "BMMR9c0pLJiG"
      },
      "source": [
        "#Passo 5.2 (a)\n",
        "import numpy as np\n",
        "b = np.log(df_tinto.quality)\n",
        "a = df_tinto.drop('quality', axis=1) \n",
        "\n",
        "from sklearn.model_selection import train_test_split\n",
        "a_treino, a_teste, b_treino, b_teste = train_test_split(a, b, random_state=42, test_size=.33)\n",
        "\n",
        "from sklearn import linear_model\n",
        "rl = linear_model.LinearRegression()\n",
        "\n",
        "modelo = rl.fit(a_treino, b_treino)\n",
        "\n",
        "print(f\"R2: {modelo.score(a_teste, b_teste)}\")\n",
        "predictor = modelo.predict(a_teste)\n",
        "\n",
        "from sklearn.metrics import mean_squared_error\n",
        "print(f\"RMSE: {mean_squared_error(b_teste, predictor)}\")"
      ],
      "execution_count": null,
      "outputs": []
    },
    {
      "cell_type": "code",
      "metadata": {
        "id": "Nn9sGKb9P6b2"
      },
      "source": [
        "#Passo 5.2 (b)\n",
        "import numpy as np\n",
        "b = np.log(df_branco.quality)\n",
        "a = df_branco.drop('quality', axis=1) \n",
        "\n",
        "from sklearn.model_selection import train_test_split\n",
        "a_treino, a_teste, b_treino, b_teste = train_test_split(a, b, random_state=42, test_size=.33)\n",
        "\n",
        "from sklearn import linear_model\n",
        "rl = linear_model.LinearRegression()\n",
        "\n",
        "modelo = rl.fit(a_treino, b_treino)\n",
        "\n",
        "print(f\"R2: {modelo.score(a_teste, b_teste)}\")\n",
        "predictor = modelo.predict(a_teste)\n",
        "\n",
        "from sklearn.metrics import mean_squared_error\n",
        "print(f\"RMSE: {mean_squared_error(b_teste, predictor)}\")"
      ],
      "execution_count": null,
      "outputs": []
    },
    {
      "cell_type": "code",
      "metadata": {
        "id": "S7POgy-iCEc8"
      },
      "source": [
        "#Passo 5.2 (c)\n",
        "import numpy as np\n",
        "b = np.log(df_tinto.quality)\n",
        "a = df_tinto.drop('quality', axis=1) \n",
        "\n",
        "from sklearn.model_selection import train_test_split\n",
        "a_treino, a_teste, b_treino, b_teste = train_test_split(a, b, random_state=45, test_size=.33)\n",
        "\n",
        "from sklearn import linear_model\n",
        "rl = linear_model.LinearRegression()\n",
        "\n",
        "modelo = rl.fit(a_treino, b_treino)\n",
        "\n",
        "print(f\"R2: {modelo.score(a_teste, b_teste)}\")\n",
        "predictor = modelo.predict(a_teste)\n",
        "\n",
        "from sklearn.metrics import mean_squared_error\n",
        "print(f\"RMSE: {mean_squared_error(b_teste, predictor)}\")"
      ],
      "execution_count": null,
      "outputs": []
    },
    {
      "cell_type": "code",
      "metadata": {
        "id": "tZDNZR-3CGfS"
      },
      "source": [
        "#Passo 5.2 (d)\n",
        "import numpy as np\n",
        "b = np.log(df_branco.quality)\n",
        "a = df_branco.drop('quality', axis=1) \n",
        "\n",
        "from sklearn.model_selection import train_test_split\n",
        "a_treino, a_teste, b_treino, b_teste = train_test_split(a, b, random_state=10, test_size=.33)\n",
        "\n",
        "from sklearn import linear_model\n",
        "rl = linear_model.LinearRegression()\n",
        "\n",
        "modelo = rl.fit(a_treino, b_treino)\n",
        "\n",
        "print(f\"R2: {modelo.score(a_teste, b_teste)}\")\n",
        "predictor = modelo.predict(a_teste)\n",
        "\n",
        "from sklearn.metrics import mean_squared_error\n",
        "print(f\"RMSE: {mean_squared_error(b_teste, predictor)}\")"
      ],
      "execution_count": null,
      "outputs": []
    }
  ]
}